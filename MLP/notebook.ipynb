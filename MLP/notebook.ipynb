{
  "cells": [
    {
      "cell_type": "markdown",
      "metadata": {
        "id": "uEa7TbVDEHQr"
      },
      "source": [
        "# Importing dataset and libs"
      ]
    },
    {
      "cell_type": "code",
      "execution_count": 1,
      "metadata": {
        "id": "222dOHT7EHQw"
      },
      "outputs": [],
      "source": [
        "import pandas as pd\n",
        "import numpy as np\n",
        "import matplotlib.pyplot as plt\n",
        "import seaborn as sns\n",
        "\n",
        "from sklearn.model_selection import train_test_split\n",
        "from sklearn.neural_network import MLPClassifier\n",
        "\n",
        "random_seed = 33"
      ]
    },
    {
      "cell_type": "code",
      "source": [
        "#pegando o dataset do drive quando rodando no collab\n",
        "#from google.colab import drive\n",
        "#drive.mount('/content/drive')\n",
        "from google.colab import drive\n",
        "drive.mount('/content/drive')\n",
        "%cd /gdrive"
      ],
      "metadata": {
        "colab": {
          "base_uri": "https://localhost:8080/"
        },
        "id": "lbTPLbPmErRK",
        "outputId": "d4fa03fc-37b4-4bf2-eae9-7f390e862936"
      },
      "execution_count": 4,
      "outputs": [
        {
          "output_type": "stream",
          "name": "stdout",
          "text": [
            "Mounted at /content/drive\n",
            "/gdrive\n"
          ]
        }
      ]
    },
    {
      "cell_type": "code",
      "execution_count": 6,
      "metadata": {
        "colab": {
          "base_uri": "https://localhost:8080/",
          "height": 322
        },
        "id": "SknpKns4EHQ0",
        "outputId": "213b57aa-f78d-496e-80cb-88697a464542"
      },
      "outputs": [
        {
          "output_type": "execute_result",
          "data": {
            "text/plain": [
              "   pelvic_incidence  pelvic_tilt  lumbar_lordosis_angle  sacral_slope  \\\n",
              "0         63.027817    22.552586              39.609117     40.475232   \n",
              "1         39.056951    10.060991              25.015378     28.995960   \n",
              "2         68.832021    22.218482              50.092194     46.613539   \n",
              "3         69.297008    24.652878              44.311238     44.644130   \n",
              "4         49.712859     9.652075              28.317406     40.060784   \n",
              "\n",
              "   pelvic_radius  degree_spondylolisthesis  pelvic_slope  Direct_tilt  \\\n",
              "0      98.672917                 -0.254400      0.744503      12.5661   \n",
              "1     114.405425                  4.564259      0.415186      12.8874   \n",
              "2     105.985135                 -3.530317      0.474889      26.8343   \n",
              "3     101.868495                 11.211523      0.369345      23.5603   \n",
              "4     108.168725                  7.918501      0.543360      35.4940   \n",
              "\n",
              "   thoracic_slope  cervical_tilt  sacrum_angle  scoliosis_slope class_att  \\\n",
              "0         14.5386       15.30468    -28.658501          43.5123  Abnormal   \n",
              "1         17.5323       16.78486    -25.530607          16.1102  Abnormal   \n",
              "2         17.4861       16.65897    -29.031888          19.2221  Abnormal   \n",
              "3         12.7074       11.42447    -30.470246          18.8329  Abnormal   \n",
              "4         15.9546        8.87237    -16.378376          24.9171  Abnormal   \n",
              "\n",
              "                                         observation  \n",
              "0                                                NaN  \n",
              "1                                                NaN  \n",
              "2  Prediction is done by using binary classificat...  \n",
              "3                                                NaN  \n",
              "4                                                NaN  "
            ],
            "text/html": [
              "\n",
              "  <div id=\"df-e5ce1693-a2e0-4bf2-970d-2ab899223c1e\">\n",
              "    <div class=\"colab-df-container\">\n",
              "      <div>\n",
              "<style scoped>\n",
              "    .dataframe tbody tr th:only-of-type {\n",
              "        vertical-align: middle;\n",
              "    }\n",
              "\n",
              "    .dataframe tbody tr th {\n",
              "        vertical-align: top;\n",
              "    }\n",
              "\n",
              "    .dataframe thead th {\n",
              "        text-align: right;\n",
              "    }\n",
              "</style>\n",
              "<table border=\"1\" class=\"dataframe\">\n",
              "  <thead>\n",
              "    <tr style=\"text-align: right;\">\n",
              "      <th></th>\n",
              "      <th>pelvic_incidence</th>\n",
              "      <th>pelvic_tilt</th>\n",
              "      <th>lumbar_lordosis_angle</th>\n",
              "      <th>sacral_slope</th>\n",
              "      <th>pelvic_radius</th>\n",
              "      <th>degree_spondylolisthesis</th>\n",
              "      <th>pelvic_slope</th>\n",
              "      <th>Direct_tilt</th>\n",
              "      <th>thoracic_slope</th>\n",
              "      <th>cervical_tilt</th>\n",
              "      <th>sacrum_angle</th>\n",
              "      <th>scoliosis_slope</th>\n",
              "      <th>class_att</th>\n",
              "      <th>observation</th>\n",
              "    </tr>\n",
              "  </thead>\n",
              "  <tbody>\n",
              "    <tr>\n",
              "      <th>0</th>\n",
              "      <td>63.027817</td>\n",
              "      <td>22.552586</td>\n",
              "      <td>39.609117</td>\n",
              "      <td>40.475232</td>\n",
              "      <td>98.672917</td>\n",
              "      <td>-0.254400</td>\n",
              "      <td>0.744503</td>\n",
              "      <td>12.5661</td>\n",
              "      <td>14.5386</td>\n",
              "      <td>15.30468</td>\n",
              "      <td>-28.658501</td>\n",
              "      <td>43.5123</td>\n",
              "      <td>Abnormal</td>\n",
              "      <td>NaN</td>\n",
              "    </tr>\n",
              "    <tr>\n",
              "      <th>1</th>\n",
              "      <td>39.056951</td>\n",
              "      <td>10.060991</td>\n",
              "      <td>25.015378</td>\n",
              "      <td>28.995960</td>\n",
              "      <td>114.405425</td>\n",
              "      <td>4.564259</td>\n",
              "      <td>0.415186</td>\n",
              "      <td>12.8874</td>\n",
              "      <td>17.5323</td>\n",
              "      <td>16.78486</td>\n",
              "      <td>-25.530607</td>\n",
              "      <td>16.1102</td>\n",
              "      <td>Abnormal</td>\n",
              "      <td>NaN</td>\n",
              "    </tr>\n",
              "    <tr>\n",
              "      <th>2</th>\n",
              "      <td>68.832021</td>\n",
              "      <td>22.218482</td>\n",
              "      <td>50.092194</td>\n",
              "      <td>46.613539</td>\n",
              "      <td>105.985135</td>\n",
              "      <td>-3.530317</td>\n",
              "      <td>0.474889</td>\n",
              "      <td>26.8343</td>\n",
              "      <td>17.4861</td>\n",
              "      <td>16.65897</td>\n",
              "      <td>-29.031888</td>\n",
              "      <td>19.2221</td>\n",
              "      <td>Abnormal</td>\n",
              "      <td>Prediction is done by using binary classificat...</td>\n",
              "    </tr>\n",
              "    <tr>\n",
              "      <th>3</th>\n",
              "      <td>69.297008</td>\n",
              "      <td>24.652878</td>\n",
              "      <td>44.311238</td>\n",
              "      <td>44.644130</td>\n",
              "      <td>101.868495</td>\n",
              "      <td>11.211523</td>\n",
              "      <td>0.369345</td>\n",
              "      <td>23.5603</td>\n",
              "      <td>12.7074</td>\n",
              "      <td>11.42447</td>\n",
              "      <td>-30.470246</td>\n",
              "      <td>18.8329</td>\n",
              "      <td>Abnormal</td>\n",
              "      <td>NaN</td>\n",
              "    </tr>\n",
              "    <tr>\n",
              "      <th>4</th>\n",
              "      <td>49.712859</td>\n",
              "      <td>9.652075</td>\n",
              "      <td>28.317406</td>\n",
              "      <td>40.060784</td>\n",
              "      <td>108.168725</td>\n",
              "      <td>7.918501</td>\n",
              "      <td>0.543360</td>\n",
              "      <td>35.4940</td>\n",
              "      <td>15.9546</td>\n",
              "      <td>8.87237</td>\n",
              "      <td>-16.378376</td>\n",
              "      <td>24.9171</td>\n",
              "      <td>Abnormal</td>\n",
              "      <td>NaN</td>\n",
              "    </tr>\n",
              "  </tbody>\n",
              "</table>\n",
              "</div>\n",
              "      <button class=\"colab-df-convert\" onclick=\"convertToInteractive('df-e5ce1693-a2e0-4bf2-970d-2ab899223c1e')\"\n",
              "              title=\"Convert this dataframe to an interactive table.\"\n",
              "              style=\"display:none;\">\n",
              "        \n",
              "  <svg xmlns=\"http://www.w3.org/2000/svg\" height=\"24px\"viewBox=\"0 0 24 24\"\n",
              "       width=\"24px\">\n",
              "    <path d=\"M0 0h24v24H0V0z\" fill=\"none\"/>\n",
              "    <path d=\"M18.56 5.44l.94 2.06.94-2.06 2.06-.94-2.06-.94-.94-2.06-.94 2.06-2.06.94zm-11 1L8.5 8.5l.94-2.06 2.06-.94-2.06-.94L8.5 2.5l-.94 2.06-2.06.94zm10 10l.94 2.06.94-2.06 2.06-.94-2.06-.94-.94-2.06-.94 2.06-2.06.94z\"/><path d=\"M17.41 7.96l-1.37-1.37c-.4-.4-.92-.59-1.43-.59-.52 0-1.04.2-1.43.59L10.3 9.45l-7.72 7.72c-.78.78-.78 2.05 0 2.83L4 21.41c.39.39.9.59 1.41.59.51 0 1.02-.2 1.41-.59l7.78-7.78 2.81-2.81c.8-.78.8-2.07 0-2.86zM5.41 20L4 18.59l7.72-7.72 1.47 1.35L5.41 20z\"/>\n",
              "  </svg>\n",
              "      </button>\n",
              "      \n",
              "  <style>\n",
              "    .colab-df-container {\n",
              "      display:flex;\n",
              "      flex-wrap:wrap;\n",
              "      gap: 12px;\n",
              "    }\n",
              "\n",
              "    .colab-df-convert {\n",
              "      background-color: #E8F0FE;\n",
              "      border: none;\n",
              "      border-radius: 50%;\n",
              "      cursor: pointer;\n",
              "      display: none;\n",
              "      fill: #1967D2;\n",
              "      height: 32px;\n",
              "      padding: 0 0 0 0;\n",
              "      width: 32px;\n",
              "    }\n",
              "\n",
              "    .colab-df-convert:hover {\n",
              "      background-color: #E2EBFA;\n",
              "      box-shadow: 0px 1px 2px rgba(60, 64, 67, 0.3), 0px 1px 3px 1px rgba(60, 64, 67, 0.15);\n",
              "      fill: #174EA6;\n",
              "    }\n",
              "\n",
              "    [theme=dark] .colab-df-convert {\n",
              "      background-color: #3B4455;\n",
              "      fill: #D2E3FC;\n",
              "    }\n",
              "\n",
              "    [theme=dark] .colab-df-convert:hover {\n",
              "      background-color: #434B5C;\n",
              "      box-shadow: 0px 1px 3px 1px rgba(0, 0, 0, 0.15);\n",
              "      filter: drop-shadow(0px 1px 2px rgba(0, 0, 0, 0.3));\n",
              "      fill: #FFFFFF;\n",
              "    }\n",
              "  </style>\n",
              "\n",
              "      <script>\n",
              "        const buttonEl =\n",
              "          document.querySelector('#df-e5ce1693-a2e0-4bf2-970d-2ab899223c1e button.colab-df-convert');\n",
              "        buttonEl.style.display =\n",
              "          google.colab.kernel.accessAllowed ? 'block' : 'none';\n",
              "\n",
              "        async function convertToInteractive(key) {\n",
              "          const element = document.querySelector('#df-e5ce1693-a2e0-4bf2-970d-2ab899223c1e');\n",
              "          const dataTable =\n",
              "            await google.colab.kernel.invokeFunction('convertToInteractive',\n",
              "                                                     [key], {});\n",
              "          if (!dataTable) return;\n",
              "\n",
              "          const docLinkHtml = 'Like what you see? Visit the ' +\n",
              "            '<a target=\"_blank\" href=https://colab.research.google.com/notebooks/data_table.ipynb>data table notebook</a>'\n",
              "            + ' to learn more about interactive tables.';\n",
              "          element.innerHTML = '';\n",
              "          dataTable['output_type'] = 'display_data';\n",
              "          await google.colab.output.renderOutput(dataTable, element);\n",
              "          const docLink = document.createElement('div');\n",
              "          docLink.innerHTML = docLinkHtml;\n",
              "          element.appendChild(docLink);\n",
              "        }\n",
              "      </script>\n",
              "    </div>\n",
              "  </div>\n",
              "  "
            ]
          },
          "metadata": {},
          "execution_count": 6
        }
      ],
      "source": [
        "columns_names = ['pelvic_incidence', 'pelvic_tilt', 'lumbar_lordosis_angle', 'sacral_slope', 'pelvic_radius', 'degree_spondylolisthesis', 'pelvic_slope', 'Direct_tilt', 'thoracic_slope', 'cervical_tilt', 'sacrum_angle', 'scoliosis_slope', 'class_att', 'observation'] \n",
        "df = pd.read_csv('/content/drive/MyDrive/SistemasInteligentes/MLP/Dataset_spine.csv')\n",
        "df.columns = columns_names\n",
        "df.head()"
      ]
    },
    {
      "cell_type": "markdown",
      "metadata": {
        "id": "X6TO3oEFEHQ3"
      },
      "source": [
        "# Análise Exploratória dos Dados"
      ]
    },
    {
      "cell_type": "markdown",
      "metadata": {
        "id": "PUB8DCwoEHQ4"
      },
      "source": [
        "### Quantidade de cada classe"
      ]
    },
    {
      "cell_type": "markdown",
      "metadata": {
        "id": "6qRgcHQFEHQ6"
      },
      "source": [
        "Com esse plot, pode-se notar que o conjunto de dados é desbalanceado"
      ]
    },
    {
      "cell_type": "code",
      "execution_count": 7,
      "metadata": {
        "colab": {
          "base_uri": "https://localhost:8080/",
          "height": 336
        },
        "id": "BnGqFSKVEHQ7",
        "outputId": "bac6c846-ca9d-4ab4-9920-7696322f812c"
      },
      "outputs": [
        {
          "output_type": "execute_result",
          "data": {
            "text/plain": [
              "<Axes: xlabel='class_att'>"
            ]
          },
          "metadata": {},
          "execution_count": 7
        },
        {
          "output_type": "display_data",
          "data": {
            "text/plain": [
              "<Figure size 432x288 with 1 Axes>"
            ],
            "image/png": "[encoded data removed]"
          },
          "metadata": {
            "needs_background": "light"
          }
        }
      ],
      "source": [
        "df.value_counts('class_att').plot(kind='bar')"
      ]
    },
    {
      "cell_type": "markdown",
      "metadata": {
        "id": "ewnpDAB9EHQ8"
      },
      "source": [
        "### Tipos de dados de cada coluna"
      ]
    },
    {
      "cell_type": "code",
      "execution_count": 8,
      "metadata": {
        "colab": {
          "base_uri": "https://localhost:8080/"
        },
        "id": "M3pKwT5mEHQ9",
        "outputId": "77c8cc66-7fc3-48e6-87ce-f16753a4fe7c"
      },
      "outputs": [
        {
          "output_type": "stream",
          "name": "stdout",
          "text": [
            "<class 'pandas.core.frame.DataFrame'>\n",
            "RangeIndex: 310 entries, 0 to 309\n",
            "Data columns (total 14 columns):\n",
            " #   Column                    Non-Null Count  Dtype  \n",
            "---  ------                    --------------  -----  \n",
            " 0   pelvic_incidence          310 non-null    float64\n",
            " 1   pelvic_tilt               310 non-null    float64\n",
            " 2   lumbar_lordosis_angle     310 non-null    float64\n",
            " 3   sacral_slope              310 non-null    float64\n",
            " 4   pelvic_radius             310 non-null    float64\n",
            " 5   degree_spondylolisthesis  310 non-null    float64\n",
            " 6   pelvic_slope              310 non-null    float64\n",
            " 7   Direct_tilt               310 non-null    float64\n",
            " 8   thoracic_slope            310 non-null    float64\n",
            " 9   cervical_tilt             310 non-null    float64\n",
            " 10  sacrum_angle              310 non-null    float64\n",
            " 11  scoliosis_slope           310 non-null    float64\n",
            " 12  class_att                 310 non-null    object \n",
            " 13  observation               14 non-null     object \n",
            "dtypes: float64(12), object(2)\n",
            "memory usage: 34.0+ KB\n"
          ]
        }
      ],
      "source": [
        "df.info()"
      ]
    },
    {
      "cell_type": "markdown",
      "metadata": {
        "id": "yT7LpDJbEHQ-"
      },
      "source": [
        "### Busca por valores NaN ou Null"
      ]
    },
    {
      "cell_type": "markdown",
      "metadata": {
        "id": "hFOg7UfjEHQ-"
      },
      "source": [
        "Desconsiderando a coluna de observação"
      ]
    },
    {
      "cell_type": "code",
      "execution_count": 9,
      "metadata": {
        "colab": {
          "base_uri": "https://localhost:8080/",
          "height": 239
        },
        "id": "GpyTzDkpEHQ_",
        "outputId": "6edebe38-265b-4c2c-89cb-c2502c8bae1b"
      },
      "outputs": [
        {
          "output_type": "execute_result",
          "data": {
            "text/plain": [
              "       pelvic_incidence pelvic_tilt lumbar_lordosis_angle sacral_slope  \\\n",
              "count               310         310                   310          310   \n",
              "unique                1           1                     1            1   \n",
              "top               False       False                 False        False   \n",
              "freq                310         310                   310          310   \n",
              "\n",
              "       pelvic_radius degree_spondylolisthesis pelvic_slope Direct_tilt  \\\n",
              "count            310                      310          310         310   \n",
              "unique             1                        1            1           1   \n",
              "top            False                    False        False       False   \n",
              "freq             310                      310          310         310   \n",
              "\n",
              "       thoracic_slope cervical_tilt sacrum_angle scoliosis_slope class_att  \\\n",
              "count             310           310          310             310       310   \n",
              "unique              1             1            1               1         1   \n",
              "top             False         False        False           False     False   \n",
              "freq              310           310          310             310       310   \n",
              "\n",
              "       observation  \n",
              "count          310  \n",
              "unique           2  \n",
              "top           True  \n",
              "freq           296  "
            ],
            "text/html": [
              "\n",
              "  <div id=\"df-0a1d2110-2f01-490b-beca-911e08dc8263\">\n",
              "    <div class=\"colab-df-container\">\n",
              "      <div>\n",
              "<style scoped>\n",
              "    .dataframe tbody tr th:only-of-type {\n",
              "        vertical-align: middle;\n",
              "    }\n",
              "\n",
              "    .dataframe tbody tr th {\n",
              "        vertical-align: top;\n",
              "    }\n",
              "\n",
              "    .dataframe thead th {\n",
              "        text-align: right;\n",
              "    }\n",
              "</style>\n",
              "<table border=\"1\" class=\"dataframe\">\n",
              "  <thead>\n",
              "    <tr style=\"text-align: right;\">\n",
              "      <th></th>\n",
              "      <th>pelvic_incidence</th>\n",
              "      <th>pelvic_tilt</th>\n",
              "      <th>lumbar_lordosis_angle</th>\n",
              "      <th>sacral_slope</th>\n",
              "      <th>pelvic_radius</th>\n",
              "      <th>degree_spondylolisthesis</th>\n",
              "      <th>pelvic_slope</th>\n",
              "      <th>Direct_tilt</th>\n",
              "      <th>thoracic_slope</th>\n",
              "      <th>cervical_tilt</th>\n",
              "      <th>sacrum_angle</th>\n",
              "      <th>scoliosis_slope</th>\n",
              "      <th>class_att</th>\n",
              "      <th>observation</th>\n",
              "    </tr>\n",
              "  </thead>\n",
              "  <tbody>\n",
              "    <tr>\n",
              "      <th>count</th>\n",
              "      <td>310</td>\n",
              "      <td>310</td>\n",
              "      <td>310</td>\n",
              "      <td>310</td>\n",
              "      <td>310</td>\n",
              "      <td>310</td>\n",
              "      <td>310</td>\n",
              "      <td>310</td>\n",
              "      <td>310</td>\n",
              "      <td>310</td>\n",
              "      <td>310</td>\n",
              "      <td>310</td>\n",
              "      <td>310</td>\n",
              "      <td>310</td>\n",
              "    </tr>\n",
              "    <tr>\n",
              "      <th>unique</th>\n",
              "      <td>1</td>\n",
              "      <td>1</td>\n",
              "      <td>1</td>\n",
              "      <td>1</td>\n",
              "      <td>1</td>\n",
              "      <td>1</td>\n",
              "      <td>1</td>\n",
              "      <td>1</td>\n",
              "      <td>1</td>\n",
              "      <td>1</td>\n",
              "      <td>1</td>\n",
              "      <td>1</td>\n",
              "      <td>1</td>\n",
              "      <td>2</td>\n",
              "    </tr>\n",
              "    <tr>\n",
              "      <th>top</th>\n",
              "      <td>False</td>\n",
              "      <td>False</td>\n",
              "      <td>False</td>\n",
              "      <td>False</td>\n",
              "      <td>False</td>\n",
              "      <td>False</td>\n",
              "      <td>False</td>\n",
              "      <td>False</td>\n",
              "      <td>False</td>\n",
              "      <td>False</td>\n",
              "      <td>False</td>\n",
              "      <td>False</td>\n",
              "      <td>False</td>\n",
              "      <td>True</td>\n",
              "    </tr>\n",
              "    <tr>\n",
              "      <th>freq</th>\n",
              "      <td>310</td>\n",
              "      <td>310</td>\n",
              "      <td>310</td>\n",
              "      <td>310</td>\n",
              "      <td>310</td>\n",
              "      <td>310</td>\n",
              "      <td>310</td>\n",
              "      <td>310</td>\n",
              "      <td>310</td>\n",
              "      <td>310</td>\n",
              "      <td>310</td>\n",
              "      <td>310</td>\n",
              "      <td>310</td>\n",
              "      <td>296</td>\n",
              "    </tr>\n",
              "  </tbody>\n",
              "</table>\n",
              "</div>\n",
              "      <button class=\"colab-df-convert\" onclick=\"convertToInteractive('df-0a1d2110-2f01-490b-beca-911e08dc8263')\"\n",
              "              title=\"Convert this dataframe to an interactive table.\"\n",
              "              style=\"display:none;\">\n",
              "        \n",
              "  <svg xmlns=\"http://www.w3.org/2000/svg\" height=\"24px\"viewBox=\"0 0 24 24\"\n",
              "       width=\"24px\">\n",
              "    <path d=\"M0 0h24v24H0V0z\" fill=\"none\"/>\n",
              "    <path d=\"M18.56 5.44l.94 2.06.94-2.06 2.06-.94-2.06-.94-.94-2.06-.94 2.06-2.06.94zm-11 1L8.5 8.5l.94-2.06 2.06-.94-2.06-.94L8.5 2.5l-.94 2.06-2.06.94zm10 10l.94 2.06.94-2.06 2.06-.94-2.06-.94-.94-2.06-.94 2.06-2.06.94z\"/><path d=\"M17.41 7.96l-1.37-1.37c-.4-.4-.92-.59-1.43-.59-.52 0-1.04.2-1.43.59L10.3 9.45l-7.72 7.72c-.78.78-.78 2.05 0 2.83L4 21.41c.39.39.9.59 1.41.59.51 0 1.02-.2 1.41-.59l7.78-7.78 2.81-2.81c.8-.78.8-2.07 0-2.86zM5.41 20L4 18.59l7.72-7.72 1.47 1.35L5.41 20z\"/>\n",
              "  </svg>\n",
              "      </button>\n",
              "      \n",
              "  <style>\n",
              "    .colab-df-container {\n",
              "      display:flex;\n",
              "      flex-wrap:wrap;\n",
              "      gap: 12px;\n",
              "    }\n",
              "\n",
              "    .colab-df-convert {\n",
              "      background-color: #E8F0FE;\n",
              "      border: none;\n",
              "      border-radius: 50%;\n",
              "      cursor: pointer;\n",
              "      display: none;\n",
              "      fill: #1967D2;\n",
              "      height: 32px;\n",
              "      padding: 0 0 0 0;\n",
              "      width: 32px;\n",
              "    }\n",
              "\n",
              "    .colab-df-convert:hover {\n",
              "      background-color: #E2EBFA;\n",
              "      box-shadow: 0px 1px 2px rgba(60, 64, 67, 0.3), 0px 1px 3px 1px rgba(60, 64, 67, 0.15);\n",
              "      fill: #174EA6;\n",
              "    }\n",
              "\n",
              "    [theme=dark] .colab-df-convert {\n",
              "      background-color: #3B4455;\n",
              "      fill: #D2E3FC;\n",
              "    }\n",
              "\n",
              "    [theme=dark] .colab-df-convert:hover {\n",
              "      background-color: #434B5C;\n",
              "      box-shadow: 0px 1px 3px 1px rgba(0, 0, 0, 0.15);\n",
              "      filter: drop-shadow(0px 1px 2px rgba(0, 0, 0, 0.3));\n",
              "      fill: #FFFFFF;\n",
              "    }\n",
              "  </style>\n",
              "\n",
              "      <script>\n",
              "        const buttonEl =\n",
              "          document.querySelector('#df-0a1d2110-2f01-490b-beca-911e08dc8263 button.colab-df-convert');\n",
              "        buttonEl.style.display =\n",
              "          google.colab.kernel.accessAllowed ? 'block' : 'none';\n",
              "\n",
              "        async function convertToInteractive(key) {\n",
              "          const element = document.querySelector('#df-0a1d2110-2f01-490b-beca-911e08dc8263');\n",
              "          const dataTable =\n",
              "            await google.colab.kernel.invokeFunction('convertToInteractive',\n",
              "                                                     [key], {});\n",
              "          if (!dataTable) return;\n",
              "\n",
              "          const docLinkHtml = 'Like what you see? Visit the ' +\n",
              "            '<a target=\"_blank\" href=https://colab.research.google.com/notebooks/data_table.ipynb>data table notebook</a>'\n",
              "            + ' to learn more about interactive tables.';\n",
              "          element.innerHTML = '';\n",
              "          dataTable['output_type'] = 'display_data';\n",
              "          await google.colab.output.renderOutput(dataTable, element);\n",
              "          const docLink = document.createElement('div');\n",
              "          docLink.innerHTML = docLinkHtml;\n",
              "          element.appendChild(docLink);\n",
              "        }\n",
              "      </script>\n",
              "    </div>\n",
              "  </div>\n",
              "  "
            ]
          },
          "metadata": {},
          "execution_count": 9
        }
      ],
      "source": [
        "df.isna().describe()"
      ]
    },
    {
      "cell_type": "code",
      "execution_count": 10,
      "metadata": {
        "colab": {
          "base_uri": "https://localhost:8080/",
          "height": 239
        },
        "id": "L6U_zqCkEHQ_",
        "outputId": "b0130888-3904-49b4-e0e7-52b59d1832dd"
      },
      "outputs": [
        {
          "output_type": "execute_result",
          "data": {
            "text/plain": [
              "       pelvic_incidence pelvic_tilt lumbar_lordosis_angle sacral_slope  \\\n",
              "count               310         310                   310          310   \n",
              "unique                1           1                     1            1   \n",
              "top               False       False                 False        False   \n",
              "freq                310         310                   310          310   \n",
              "\n",
              "       pelvic_radius degree_spondylolisthesis pelvic_slope Direct_tilt  \\\n",
              "count            310                      310          310         310   \n",
              "unique             1                        1            1           1   \n",
              "top            False                    False        False       False   \n",
              "freq             310                      310          310         310   \n",
              "\n",
              "       thoracic_slope cervical_tilt sacrum_angle scoliosis_slope class_att  \\\n",
              "count             310           310          310             310       310   \n",
              "unique              1             1            1               1         1   \n",
              "top             False         False        False           False     False   \n",
              "freq              310           310          310             310       310   \n",
              "\n",
              "       observation  \n",
              "count          310  \n",
              "unique           2  \n",
              "top           True  \n",
              "freq           296  "
            ],
            "text/html": [
              "\n",
              "  <div id=\"df-48332326-fde2-4ac5-8aac-ee645ae318c0\">\n",
              "    <div class=\"colab-df-container\">\n",
              "      <div>\n",
              "<style scoped>\n",
              "    .dataframe tbody tr th:only-of-type {\n",
              "        vertical-align: middle;\n",
              "    }\n",
              "\n",
              "    .dataframe tbody tr th {\n",
              "        vertical-align: top;\n",
              "    }\n",
              "\n",
              "    .dataframe thead th {\n",
              "        text-align: right;\n",
              "    }\n",
              "</style>\n",
              "<table border=\"1\" class=\"dataframe\">\n",
              "  <thead>\n",
              "    <tr style=\"text-align: right;\">\n",
              "      <th></th>\n",
              "      <th>pelvic_incidence</th>\n",
              "      <th>pelvic_tilt</th>\n",
              "      <th>lumbar_lordosis_angle</th>\n",
              "      <th>sacral_slope</th>\n",
              "      <th>pelvic_radius</th>\n",
              "      <th>degree_spondylolisthesis</th>\n",
              "      <th>pelvic_slope</th>\n",
              "      <th>Direct_tilt</th>\n",
              "      <th>thoracic_slope</th>\n",
              "      <th>cervical_tilt</th>\n",
              "      <th>sacrum_angle</th>\n",
              "      <th>scoliosis_slope</th>\n",
              "      <th>class_att</th>\n",
              "      <th>observation</th>\n",
              "    </tr>\n",
              "  </thead>\n",
              "  <tbody>\n",
              "    <tr>\n",
              "      <th>count</th>\n",
              "      <td>310</td>\n",
              "      <td>310</td>\n",
              "      <td>310</td>\n",
              "      <td>310</td>\n",
              "      <td>310</td>\n",
              "      <td>310</td>\n",
              "      <td>310</td>\n",
              "      <td>310</td>\n",
              "      <td>310</td>\n",
              "      <td>310</td>\n",
              "      <td>310</td>\n",
              "      <td>310</td>\n",
              "      <td>310</td>\n",
              "      <td>310</td>\n",
              "    </tr>\n",
              "    <tr>\n",
              "      <th>unique</th>\n",
              "      <td>1</td>\n",
              "      <td>1</td>\n",
              "      <td>1</td>\n",
              "      <td>1</td>\n",
              "      <td>1</td>\n",
              "      <td>1</td>\n",
              "      <td>1</td>\n",
              "      <td>1</td>\n",
              "      <td>1</td>\n",
              "      <td>1</td>\n",
              "      <td>1</td>\n",
              "      <td>1</td>\n",
              "      <td>1</td>\n",
              "      <td>2</td>\n",
              "    </tr>\n",
              "    <tr>\n",
              "      <th>top</th>\n",
              "      <td>False</td>\n",
              "      <td>False</td>\n",
              "      <td>False</td>\n",
              "      <td>False</td>\n",
              "      <td>False</td>\n",
              "      <td>False</td>\n",
              "      <td>False</td>\n",
              "      <td>False</td>\n",
              "      <td>False</td>\n",
              "      <td>False</td>\n",
              "      <td>False</td>\n",
              "      <td>False</td>\n",
              "      <td>False</td>\n",
              "      <td>True</td>\n",
              "    </tr>\n",
              "    <tr>\n",
              "      <th>freq</th>\n",
              "      <td>310</td>\n",
              "      <td>310</td>\n",
              "      <td>310</td>\n",
              "      <td>310</td>\n",
              "      <td>310</td>\n",
              "      <td>310</td>\n",
              "      <td>310</td>\n",
              "      <td>310</td>\n",
              "      <td>310</td>\n",
              "      <td>310</td>\n",
              "      <td>310</td>\n",
              "      <td>310</td>\n",
              "      <td>310</td>\n",
              "      <td>296</td>\n",
              "    </tr>\n",
              "  </tbody>\n",
              "</table>\n",
              "</div>\n",
              "      <button class=\"colab-df-convert\" onclick=\"convertToInteractive('df-48332326-fde2-4ac5-8aac-ee645ae318c0')\"\n",
              "              title=\"Convert this dataframe to an interactive table.\"\n",
              "              style=\"display:none;\">\n",
              "        \n",
              "  <svg xmlns=\"http://www.w3.org/2000/svg\" height=\"24px\"viewBox=\"0 0 24 24\"\n",
              "       width=\"24px\">\n",
              "    <path d=\"M0 0h24v24H0V0z\" fill=\"none\"/>\n",
              "    <path d=\"M18.56 5.44l.94 2.06.94-2.06 2.06-.94-2.06-.94-.94-2.06-.94 2.06-2.06.94zm-11 1L8.5 8.5l.94-2.06 2.06-.94-2.06-.94L8.5 2.5l-.94 2.06-2.06.94zm10 10l.94 2.06.94-2.06 2.06-.94-2.06-.94-.94-2.06-.94 2.06-2.06.94z\"/><path d=\"M17.41 7.96l-1.37-1.37c-.4-.4-.92-.59-1.43-.59-.52 0-1.04.2-1.43.59L10.3 9.45l-7.72 7.72c-.78.78-.78 2.05 0 2.83L4 21.41c.39.39.9.59 1.41.59.51 0 1.02-.2 1.41-.59l7.78-7.78 2.81-2.81c.8-.78.8-2.07 0-2.86zM5.41 20L4 18.59l7.72-7.72 1.47 1.35L5.41 20z\"/>\n",
              "  </svg>\n",
              "      </button>\n",
              "      \n",
              "  <style>\n",
              "    .colab-df-container {\n",
              "      display:flex;\n",
              "      flex-wrap:wrap;\n",
              "      gap: 12px;\n",
              "    }\n",
              "\n",
              "    .colab-df-convert {\n",
              "      background-color: #E8F0FE;\n",
              "      border: none;\n",
              "      border-radius: 50%;\n",
              "      cursor: pointer;\n",
              "      display: none;\n",
              "      fill: #1967D2;\n",
              "      height: 32px;\n",
              "      padding: 0 0 0 0;\n",
              "      width: 32px;\n",
              "    }\n",
              "\n",
              "    .colab-df-convert:hover {\n",
              "      background-color: #E2EBFA;\n",
              "      box-shadow: 0px 1px 2px rgba(60, 64, 67, 0.3), 0px 1px 3px 1px rgba(60, 64, 67, 0.15);\n",
              "      fill: #174EA6;\n",
              "    }\n",
              "\n",
              "    [theme=dark] .colab-df-convert {\n",
              "      background-color: #3B4455;\n",
              "      fill: #D2E3FC;\n",
              "    }\n",
              "\n",
              "    [theme=dark] .colab-df-convert:hover {\n",
              "      background-color: #434B5C;\n",
              "      box-shadow: 0px 1px 3px 1px rgba(0, 0, 0, 0.15);\n",
              "      filter: drop-shadow(0px 1px 2px rgba(0, 0, 0, 0.3));\n",
              "      fill: #FFFFFF;\n",
              "    }\n",
              "  </style>\n",
              "\n",
              "      <script>\n",
              "        const buttonEl =\n",
              "          document.querySelector('#df-48332326-fde2-4ac5-8aac-ee645ae318c0 button.colab-df-convert');\n",
              "        buttonEl.style.display =\n",
              "          google.colab.kernel.accessAllowed ? 'block' : 'none';\n",
              "\n",
              "        async function convertToInteractive(key) {\n",
              "          const element = document.querySelector('#df-48332326-fde2-4ac5-8aac-ee645ae318c0');\n",
              "          const dataTable =\n",
              "            await google.colab.kernel.invokeFunction('convertToInteractive',\n",
              "                                                     [key], {});\n",
              "          if (!dataTable) return;\n",
              "\n",
              "          const docLinkHtml = 'Like what you see? Visit the ' +\n",
              "            '<a target=\"_blank\" href=https://colab.research.google.com/notebooks/data_table.ipynb>data table notebook</a>'\n",
              "            + ' to learn more about interactive tables.';\n",
              "          element.innerHTML = '';\n",
              "          dataTable['output_type'] = 'display_data';\n",
              "          await google.colab.output.renderOutput(dataTable, element);\n",
              "          const docLink = document.createElement('div');\n",
              "          docLink.innerHTML = docLinkHtml;\n",
              "          element.appendChild(docLink);\n",
              "        }\n",
              "      </script>\n",
              "    </div>\n",
              "  </div>\n",
              "  "
            ]
          },
          "metadata": {},
          "execution_count": 10
        }
      ],
      "source": [
        "df.isnull().describe()"
      ]
    },
    {
      "cell_type": "markdown",
      "metadata": {
        "id": "C7IW-uE5EHRA"
      },
      "source": [
        "Com essa análise podemos notar que só existem valores Null/NaN para o campo \"observation\" que é um campo textual. Vamos então desconsiderar esse campo para facilitar a nossa análise"
      ]
    },
    {
      "cell_type": "code",
      "execution_count": 11,
      "metadata": {
        "colab": {
          "base_uri": "https://localhost:8080/",
          "height": 125
        },
        "id": "8l3Lm8CzEHRA",
        "outputId": "187b9772-f5ee-4b0c-fd49-79d3a96ae54c"
      },
      "outputs": [
        {
          "output_type": "execute_result",
          "data": {
            "text/plain": [
              "   pelvic_incidence  pelvic_tilt  lumbar_lordosis_angle  sacral_slope  \\\n",
              "0         63.027817    22.552586              39.609117     40.475232   \n",
              "\n",
              "   pelvic_radius  degree_spondylolisthesis  pelvic_slope  Direct_tilt  \\\n",
              "0      98.672917                   -0.2544      0.744503      12.5661   \n",
              "\n",
              "   thoracic_slope  cervical_tilt  sacrum_angle  scoliosis_slope class_att  \n",
              "0         14.5386       15.30468    -28.658501          43.5123  Abnormal  "
            ],
            "text/html": [
              "\n",
              "  <div id=\"df-5a2328f9-5869-457e-afef-67bc55046250\">\n",
              "    <div class=\"colab-df-container\">\n",
              "      <div>\n",
              "<style scoped>\n",
              "    .dataframe tbody tr th:only-of-type {\n",
              "        vertical-align: middle;\n",
              "    }\n",
              "\n",
              "    .dataframe tbody tr th {\n",
              "        vertical-align: top;\n",
              "    }\n",
              "\n",
              "    .dataframe thead th {\n",
              "        text-align: right;\n",
              "    }\n",
              "</style>\n",
              "<table border=\"1\" class=\"dataframe\">\n",
              "  <thead>\n",
              "    <tr style=\"text-align: right;\">\n",
              "      <th></th>\n",
              "      <th>pelvic_incidence</th>\n",
              "      <th>pelvic_tilt</th>\n",
              "      <th>lumbar_lordosis_angle</th>\n",
              "      <th>sacral_slope</th>\n",
              "      <th>pelvic_radius</th>\n",
              "      <th>degree_spondylolisthesis</th>\n",
              "      <th>pelvic_slope</th>\n",
              "      <th>Direct_tilt</th>\n",
              "      <th>thoracic_slope</th>\n",
              "      <th>cervical_tilt</th>\n",
              "      <th>sacrum_angle</th>\n",
              "      <th>scoliosis_slope</th>\n",
              "      <th>class_att</th>\n",
              "    </tr>\n",
              "  </thead>\n",
              "  <tbody>\n",
              "    <tr>\n",
              "      <th>0</th>\n",
              "      <td>63.027817</td>\n",
              "      <td>22.552586</td>\n",
              "      <td>39.609117</td>\n",
              "      <td>40.475232</td>\n",
              "      <td>98.672917</td>\n",
              "      <td>-0.2544</td>\n",
              "      <td>0.744503</td>\n",
              "      <td>12.5661</td>\n",
              "      <td>14.5386</td>\n",
              "      <td>15.30468</td>\n",
              "      <td>-28.658501</td>\n",
              "      <td>43.5123</td>\n",
              "      <td>Abnormal</td>\n",
              "    </tr>\n",
              "  </tbody>\n",
              "</table>\n",
              "</div>\n",
              "      <button class=\"colab-df-convert\" onclick=\"convertToInteractive('df-5a2328f9-5869-457e-afef-67bc55046250')\"\n",
              "              title=\"Convert this dataframe to an interactive table.\"\n",
              "              style=\"display:none;\">\n",
              "        \n",
              "  <svg xmlns=\"http://www.w3.org/2000/svg\" height=\"24px\"viewBox=\"0 0 24 24\"\n",
              "       width=\"24px\">\n",
              "    <path d=\"M0 0h24v24H0V0z\" fill=\"none\"/>\n",
              "    <path d=\"M18.56 5.44l.94 2.06.94-2.06 2.06-.94-2.06-.94-.94-2.06-.94 2.06-2.06.94zm-11 1L8.5 8.5l.94-2.06 2.06-.94-2.06-.94L8.5 2.5l-.94 2.06-2.06.94zm10 10l.94 2.06.94-2.06 2.06-.94-2.06-.94-.94-2.06-.94 2.06-2.06.94z\"/><path d=\"M17.41 7.96l-1.37-1.37c-.4-.4-.92-.59-1.43-.59-.52 0-1.04.2-1.43.59L10.3 9.45l-7.72 7.72c-.78.78-.78 2.05 0 2.83L4 21.41c.39.39.9.59 1.41.59.51 0 1.02-.2 1.41-.59l7.78-7.78 2.81-2.81c.8-.78.8-2.07 0-2.86zM5.41 20L4 18.59l7.72-7.72 1.47 1.35L5.41 20z\"/>\n",
              "  </svg>\n",
              "      </button>\n",
              "      \n",
              "  <style>\n",
              "    .colab-df-container {\n",
              "      display:flex;\n",
              "      flex-wrap:wrap;\n",
              "      gap: 12px;\n",
              "    }\n",
              "\n",
              "    .colab-df-convert {\n",
              "      background-color: #E8F0FE;\n",
              "      border: none;\n",
              "      border-radius: 50%;\n",
              "      cursor: pointer;\n",
              "      display: none;\n",
              "      fill: #1967D2;\n",
              "      height: 32px;\n",
              "      padding: 0 0 0 0;\n",
              "      width: 32px;\n",
              "    }\n",
              "\n",
              "    .colab-df-convert:hover {\n",
              "      background-color: #E2EBFA;\n",
              "      box-shadow: 0px 1px 2px rgba(60, 64, 67, 0.3), 0px 1px 3px 1px rgba(60, 64, 67, 0.15);\n",
              "      fill: #174EA6;\n",
              "    }\n",
              "\n",
              "    [theme=dark] .colab-df-convert {\n",
              "      background-color: #3B4455;\n",
              "      fill: #D2E3FC;\n",
              "    }\n",
              "\n",
              "    [theme=dark] .colab-df-convert:hover {\n",
              "      background-color: #434B5C;\n",
              "      box-shadow: 0px 1px 3px 1px rgba(0, 0, 0, 0.15);\n",
              "      filter: drop-shadow(0px 1px 2px rgba(0, 0, 0, 0.3));\n",
              "      fill: #FFFFFF;\n",
              "    }\n",
              "  </style>\n",
              "\n",
              "      <script>\n",
              "        const buttonEl =\n",
              "          document.querySelector('#df-5a2328f9-5869-457e-afef-67bc55046250 button.colab-df-convert');\n",
              "        buttonEl.style.display =\n",
              "          google.colab.kernel.accessAllowed ? 'block' : 'none';\n",
              "\n",
              "        async function convertToInteractive(key) {\n",
              "          const element = document.querySelector('#df-5a2328f9-5869-457e-afef-67bc55046250');\n",
              "          const dataTable =\n",
              "            await google.colab.kernel.invokeFunction('convertToInteractive',\n",
              "                                                     [key], {});\n",
              "          if (!dataTable) return;\n",
              "\n",
              "          const docLinkHtml = 'Like what you see? Visit the ' +\n",
              "            '<a target=\"_blank\" href=https://colab.research.google.com/notebooks/data_table.ipynb>data table notebook</a>'\n",
              "            + ' to learn more about interactive tables.';\n",
              "          element.innerHTML = '';\n",
              "          dataTable['output_type'] = 'display_data';\n",
              "          await google.colab.output.renderOutput(dataTable, element);\n",
              "          const docLink = document.createElement('div');\n",
              "          docLink.innerHTML = docLinkHtml;\n",
              "          element.appendChild(docLink);\n",
              "        }\n",
              "      </script>\n",
              "    </div>\n",
              "  </div>\n",
              "  "
            ]
          },
          "metadata": {},
          "execution_count": 11
        }
      ],
      "source": [
        "df = df.drop(columns=['observation'])\n",
        "df.head(1)"
      ]
    },
    {
      "cell_type": "markdown",
      "metadata": {
        "id": "WaMNKbk_EHRB"
      },
      "source": [
        "### Comparação das estatísticas das features"
      ]
    },
    {
      "cell_type": "markdown",
      "metadata": {
        "id": "4xtM9M77EHRB"
      },
      "source": [
        "Comparação de estatísticas das features para instâncias normais e anormais:"
      ]
    },
    {
      "cell_type": "code",
      "execution_count": 12,
      "metadata": {
        "colab": {
          "base_uri": "https://localhost:8080/",
          "height": 300
        },
        "id": "WAgIf9xVEHRB",
        "outputId": "1cb6bf1c-3a94-4fa2-c637-e6331f15c2c0"
      },
      "outputs": [
        {
          "output_type": "execute_result",
          "data": {
            "text/plain": [
              "       pelvic_incidence  pelvic_tilt  lumbar_lordosis_angle  sacral_slope  \\\n",
              "count        100.000000   100.000000             100.000000    100.000000   \n",
              "mean          51.685244    12.821414              43.542605     38.863830   \n",
              "std           12.368161     6.778503              12.361388      9.624004   \n",
              "min           30.741938    -5.845994              19.071075     17.386972   \n",
              "25%           42.817849     8.799951              35.000000     32.340487   \n",
              "50%           50.123115    13.482435              42.638923     37.059694   \n",
              "75%           61.470097    16.785953              51.602346     44.608788   \n",
              "max           89.834676    29.894119              90.563461     67.195460   \n",
              "\n",
              "       pelvic_radius  degree_spondylolisthesis  pelvic_slope  Direct_tilt  \\\n",
              "count     100.000000                100.000000    100.000000   100.000000   \n",
              "mean      123.890834                  2.186572      0.449880    21.816394   \n",
              "std         9.014246                  6.307483      0.284711     8.846484   \n",
              "min       100.501192                -11.058179      0.005045     7.390700   \n",
              "25%       118.182659                 -1.511360      0.201843    13.164225   \n",
              "50%       123.874328                  1.152710      0.418732    22.414600   \n",
              "75%       129.040401                  4.968807      0.695981    29.760625   \n",
              "max       147.894637                 31.172767      0.997247    36.619400   \n",
              "\n",
              "       thoracic_slope  cervical_tilt  sacrum_angle  scoliosis_slope  \n",
              "count      100.000000     100.000000    100.000000       100.000000  \n",
              "mean        13.307268      11.514534    -14.528712        26.694019  \n",
              "std          3.142902       2.955985     12.675224        10.852099  \n",
              "min          7.475200       7.054110    -35.077537         7.432400  \n",
              "25%         11.053625       8.706198    -26.789617        17.838050  \n",
              "50%         13.409750      11.330750    -13.974694        27.727950  \n",
              "75%         15.568925      13.816777     -4.488790        35.660300  \n",
              "max         19.265900      16.617540      6.972071        44.341200  "
            ],
            "text/html": [
              "\n",
              "  <div id=\"df-072325a8-0fbf-4a28-9f0c-79eaa55f0520\">\n",
              "    <div class=\"colab-df-container\">\n",
              "      <div>\n",
              "<style scoped>\n",
              "    .dataframe tbody tr th:only-of-type {\n",
              "        vertical-align: middle;\n",
              "    }\n",
              "\n",
              "    .dataframe tbody tr th {\n",
              "        vertical-align: top;\n",
              "    }\n",
              "\n",
              "    .dataframe thead th {\n",
              "        text-align: right;\n",
              "    }\n",
              "</style>\n",
              "<table border=\"1\" class=\"dataframe\">\n",
              "  <thead>\n",
              "    <tr style=\"text-align: right;\">\n",
              "      <th></th>\n",
              "      <th>pelvic_incidence</th>\n",
              "      <th>pelvic_tilt</th>\n",
              "      <th>lumbar_lordosis_angle</th>\n",
              "      <th>sacral_slope</th>\n",
              "      <th>pelvic_radius</th>\n",
              "      <th>degree_spondylolisthesis</th>\n",
              "      <th>pelvic_slope</th>\n",
              "      <th>Direct_tilt</th>\n",
              "      <th>thoracic_slope</th>\n",
              "      <th>cervical_tilt</th>\n",
              "      <th>sacrum_angle</th>\n",
              "      <th>scoliosis_slope</th>\n",
              "    </tr>\n",
              "  </thead>\n",
              "  <tbody>\n",
              "    <tr>\n",
              "      <th>count</th>\n",
              "      <td>100.000000</td>\n",
              "      <td>100.000000</td>\n",
              "      <td>100.000000</td>\n",
              "      <td>100.000000</td>\n",
              "      <td>100.000000</td>\n",
              "      <td>100.000000</td>\n",
              "      <td>100.000000</td>\n",
              "      <td>100.000000</td>\n",
              "      <td>100.000000</td>\n",
              "      <td>100.000000</td>\n",
              "      <td>100.000000</td>\n",
              "      <td>100.000000</td>\n",
              "    </tr>\n",
              "    <tr>\n",
              "      <th>mean</th>\n",
              "      <td>51.685244</td>\n",
              "      <td>12.821414</td>\n",
              "      <td>43.542605</td>\n",
              "      <td>38.863830</td>\n",
              "      <td>123.890834</td>\n",
              "      <td>2.186572</td>\n",
              "      <td>0.449880</td>\n",
              "      <td>21.816394</td>\n",
              "      <td>13.307268</td>\n",
              "      <td>11.514534</td>\n",
              "      <td>-14.528712</td>\n",
              "      <td>26.694019</td>\n",
              "    </tr>\n",
              "    <tr>\n",
              "      <th>std</th>\n",
              "      <td>12.368161</td>\n",
              "      <td>6.778503</td>\n",
              "      <td>12.361388</td>\n",
              "      <td>9.624004</td>\n",
              "      <td>9.014246</td>\n",
              "      <td>6.307483</td>\n",
              "      <td>0.284711</td>\n",
              "      <td>8.846484</td>\n",
              "      <td>3.142902</td>\n",
              "      <td>2.955985</td>\n",
              "      <td>12.675224</td>\n",
              "      <td>10.852099</td>\n",
              "    </tr>\n",
              "    <tr>\n",
              "      <th>min</th>\n",
              "      <td>30.741938</td>\n",
              "      <td>-5.845994</td>\n",
              "      <td>19.071075</td>\n",
              "      <td>17.386972</td>\n",
              "      <td>100.501192</td>\n",
              "      <td>-11.058179</td>\n",
              "      <td>0.005045</td>\n",
              "      <td>7.390700</td>\n",
              "      <td>7.475200</td>\n",
              "      <td>7.054110</td>\n",
              "      <td>-35.077537</td>\n",
              "      <td>7.432400</td>\n",
              "    </tr>\n",
              "    <tr>\n",
              "      <th>25%</th>\n",
              "      <td>42.817849</td>\n",
              "      <td>8.799951</td>\n",
              "      <td>35.000000</td>\n",
              "      <td>32.340487</td>\n",
              "      <td>118.182659</td>\n",
              "      <td>-1.511360</td>\n",
              "      <td>0.201843</td>\n",
              "      <td>13.164225</td>\n",
              "      <td>11.053625</td>\n",
              "      <td>8.706198</td>\n",
              "      <td>-26.789617</td>\n",
              "      <td>17.838050</td>\n",
              "    </tr>\n",
              "    <tr>\n",
              "      <th>50%</th>\n",
              "      <td>50.123115</td>\n",
              "      <td>13.482435</td>\n",
              "      <td>42.638923</td>\n",
              "      <td>37.059694</td>\n",
              "      <td>123.874328</td>\n",
              "      <td>1.152710</td>\n",
              "      <td>0.418732</td>\n",
              "      <td>22.414600</td>\n",
              "      <td>13.409750</td>\n",
              "      <td>11.330750</td>\n",
              "      <td>-13.974694</td>\n",
              "      <td>27.727950</td>\n",
              "    </tr>\n",
              "    <tr>\n",
              "      <th>75%</th>\n",
              "      <td>61.470097</td>\n",
              "      <td>16.785953</td>\n",
              "      <td>51.602346</td>\n",
              "      <td>44.608788</td>\n",
              "      <td>129.040401</td>\n",
              "      <td>4.968807</td>\n",
              "      <td>0.695981</td>\n",
              "      <td>29.760625</td>\n",
              "      <td>15.568925</td>\n",
              "      <td>13.816777</td>\n",
              "      <td>-4.488790</td>\n",
              "      <td>35.660300</td>\n",
              "    </tr>\n",
              "    <tr>\n",
              "      <th>max</th>\n",
              "      <td>89.834676</td>\n",
              "      <td>29.894119</td>\n",
              "      <td>90.563461</td>\n",
              "      <td>67.195460</td>\n",
              "      <td>147.894637</td>\n",
              "      <td>31.172767</td>\n",
              "      <td>0.997247</td>\n",
              "      <td>36.619400</td>\n",
              "      <td>19.265900</td>\n",
              "      <td>16.617540</td>\n",
              "      <td>6.972071</td>\n",
              "      <td>44.341200</td>\n",
              "    </tr>\n",
              "  </tbody>\n",
              "</table>\n",
              "</div>\n",
              "      <button class=\"colab-df-convert\" onclick=\"convertToInteractive('df-072325a8-0fbf-4a28-9f0c-79eaa55f0520')\"\n",
              "              title=\"Convert this dataframe to an interactive table.\"\n",
              "              style=\"display:none;\">\n",
              "        \n",
              "  <svg xmlns=\"http://www.w3.org/2000/svg\" height=\"24px\"viewBox=\"0 0 24 24\"\n",
              "       width=\"24px\">\n",
              "    <path d=\"M0 0h24v24H0V0z\" fill=\"none\"/>\n",
              "    <path d=\"M18.56 5.44l.94 2.06.94-2.06 2.06-.94-2.06-.94-.94-2.06-.94 2.06-2.06.94zm-11 1L8.5 8.5l.94-2.06 2.06-.94-2.06-.94L8.5 2.5l-.94 2.06-2.06.94zm10 10l.94 2.06.94-2.06 2.06-.94-2.06-.94-.94-2.06-.94 2.06-2.06.94z\"/><path d=\"M17.41 7.96l-1.37-1.37c-.4-.4-.92-.59-1.43-.59-.52 0-1.04.2-1.43.59L10.3 9.45l-7.72 7.72c-.78.78-.78 2.05 0 2.83L4 21.41c.39.39.9.59 1.41.59.51 0 1.02-.2 1.41-.59l7.78-7.78 2.81-2.81c.8-.78.8-2.07 0-2.86zM5.41 20L4 18.59l7.72-7.72 1.47 1.35L5.41 20z\"/>\n",
              "  </svg>\n",
              "      </button>\n",
              "      \n",
              "  <style>\n",
              "    .colab-df-container {\n",
              "      display:flex;\n",
              "      flex-wrap:wrap;\n",
              "      gap: 12px;\n",
              "    }\n",
              "\n",
              "    .colab-df-convert {\n",
              "      background-color: #E8F0FE;\n",
              "      border: none;\n",
              "      border-radius: 50%;\n",
              "      cursor: pointer;\n",
              "      display: none;\n",
              "      fill: #1967D2;\n",
              "      height: 32px;\n",
              "      padding: 0 0 0 0;\n",
              "      width: 32px;\n",
              "    }\n",
              "\n",
              "    .colab-df-convert:hover {\n",
              "      background-color: #E2EBFA;\n",
              "      box-shadow: 0px 1px 2px rgba(60, 64, 67, 0.3), 0px 1px 3px 1px rgba(60, 64, 67, 0.15);\n",
              "      fill: #174EA6;\n",
              "    }\n",
              "\n",
              "    [theme=dark] .colab-df-convert {\n",
              "      background-color: #3B4455;\n",
              "      fill: #D2E3FC;\n",
              "    }\n",
              "\n",
              "    [theme=dark] .colab-df-convert:hover {\n",
              "      background-color: #434B5C;\n",
              "      box-shadow: 0px 1px 3px 1px rgba(0, 0, 0, 0.15);\n",
              "      filter: drop-shadow(0px 1px 2px rgba(0, 0, 0, 0.3));\n",
              "      fill: #FFFFFF;\n",
              "    }\n",
              "  </style>\n",
              "\n",
              "      <script>\n",
              "        const buttonEl =\n",
              "          document.querySelector('#df-072325a8-0fbf-4a28-9f0c-79eaa55f0520 button.colab-df-convert');\n",
              "        buttonEl.style.display =\n",
              "          google.colab.kernel.accessAllowed ? 'block' : 'none';\n",
              "\n",
              "        async function convertToInteractive(key) {\n",
              "          const element = document.querySelector('#df-072325a8-0fbf-4a28-9f0c-79eaa55f0520');\n",
              "          const dataTable =\n",
              "            await google.colab.kernel.invokeFunction('convertToInteractive',\n",
              "                                                     [key], {});\n",
              "          if (!dataTable) return;\n",
              "\n",
              "          const docLinkHtml = 'Like what you see? Visit the ' +\n",
              "            '<a target=\"_blank\" href=https://colab.research.google.com/notebooks/data_table.ipynb>data table notebook</a>'\n",
              "            + ' to learn more about interactive tables.';\n",
              "          element.innerHTML = '';\n",
              "          dataTable['output_type'] = 'display_data';\n",
              "          await google.colab.output.renderOutput(dataTable, element);\n",
              "          const docLink = document.createElement('div');\n",
              "          docLink.innerHTML = docLinkHtml;\n",
              "          element.appendChild(docLink);\n",
              "        }\n",
              "      </script>\n",
              "    </div>\n",
              "  </div>\n",
              "  "
            ]
          },
          "metadata": {},
          "execution_count": 12
        }
      ],
      "source": [
        "# Normais\n",
        "df.query('class_att == \"Normal\"').describe()"
      ]
    },
    {
      "cell_type": "code",
      "execution_count": 13,
      "metadata": {
        "colab": {
          "base_uri": "https://localhost:8080/",
          "height": 300
        },
        "id": "W_gwQ0q-EHRC",
        "outputId": "32a73196-1d7c-4614-bdef-92aac956c954"
      },
      "outputs": [
        {
          "output_type": "execute_result",
          "data": {
            "text/plain": [
              "       pelvic_incidence  pelvic_tilt  lumbar_lordosis_angle  sacral_slope  \\\n",
              "count        210.000000   210.000000             210.000000    210.000000   \n",
              "mean          64.692562    19.791111              55.925370     44.901450   \n",
              "std           17.662129    10.515871              19.669471     14.515560   \n",
              "min           26.147921    -6.554948              14.000000     13.366931   \n",
              "25%           50.102507    13.048130              41.116964     34.380345   \n",
              "50%           65.274888    18.798899              56.150000     44.639597   \n",
              "75%           77.593672    24.815515              68.102805     55.146868   \n",
              "max          129.834041    49.431864             125.742385    121.429566   \n",
              "\n",
              "       pelvic_radius  degree_spondylolisthesis  pelvic_slope  Direct_tilt  \\\n",
              "count     210.000000                210.000000    210.000000   210.000000   \n",
              "mean      115.077713                 37.777705      0.483979    21.085875   \n",
              "std        14.090605                 40.696741      0.286319     8.550365   \n",
              "min        70.082575                -10.675871      0.003220     7.027000   \n",
              "25%       107.309280                  7.263227      0.250212    13.054400   \n",
              "50%       115.650323                 31.946516      0.501280    21.750600   \n",
              "75%       123.133365                 55.371614      0.708476    28.194975   \n",
              "max       163.071041                418.543082      0.998827    36.743900   \n",
              "\n",
              "       thoracic_slope  cervical_tilt  sacrum_angle  scoliosis_slope  \n",
              "count      210.000000     210.000000    210.000000       210.000000  \n",
              "mean        12.948913      12.132737    -13.826677        25.146915  \n",
              "std          3.516762       2.848401     12.029824        10.242513  \n",
              "min          7.037800       7.030600    -35.287375         7.007900  \n",
              "25%         10.151175       9.801870    -23.732086        16.900900  \n",
              "50%         12.770050      11.973735    -14.892070        24.509400  \n",
              "75%         15.950475      14.609660     -2.937705        33.204375  \n",
              "max         19.324000      16.821080      6.868423        44.233800  "
            ],
            "text/html": [
              "\n",
              "  <div id=\"df-5e7d7675-863a-49c5-82e1-d406422ce10f\">\n",
              "    <div class=\"colab-df-container\">\n",
              "      <div>\n",
              "<style scoped>\n",
              "    .dataframe tbody tr th:only-of-type {\n",
              "        vertical-align: middle;\n",
              "    }\n",
              "\n",
              "    .dataframe tbody tr th {\n",
              "        vertical-align: top;\n",
              "    }\n",
              "\n",
              "    .dataframe thead th {\n",
              "        text-align: right;\n",
              "    }\n",
              "</style>\n",
              "<table border=\"1\" class=\"dataframe\">\n",
              "  <thead>\n",
              "    <tr style=\"text-align: right;\">\n",
              "      <th></th>\n",
              "      <th>pelvic_incidence</th>\n",
              "      <th>pelvic_tilt</th>\n",
              "      <th>lumbar_lordosis_angle</th>\n",
              "      <th>sacral_slope</th>\n",
              "      <th>pelvic_radius</th>\n",
              "      <th>degree_spondylolisthesis</th>\n",
              "      <th>pelvic_slope</th>\n",
              "      <th>Direct_tilt</th>\n",
              "      <th>thoracic_slope</th>\n",
              "      <th>cervical_tilt</th>\n",
              "      <th>sacrum_angle</th>\n",
              "      <th>scoliosis_slope</th>\n",
              "    </tr>\n",
              "  </thead>\n",
              "  <tbody>\n",
              "    <tr>\n",
              "      <th>count</th>\n",
              "      <td>210.000000</td>\n",
              "      <td>210.000000</td>\n",
              "      <td>210.000000</td>\n",
              "      <td>210.000000</td>\n",
              "      <td>210.000000</td>\n",
              "      <td>210.000000</td>\n",
              "      <td>210.000000</td>\n",
              "      <td>210.000000</td>\n",
              "      <td>210.000000</td>\n",
              "      <td>210.000000</td>\n",
              "      <td>210.000000</td>\n",
              "      <td>210.000000</td>\n",
              "    </tr>\n",
              "    <tr>\n",
              "      <th>mean</th>\n",
              "      <td>64.692562</td>\n",
              "      <td>19.791111</td>\n",
              "      <td>55.925370</td>\n",
              "      <td>44.901450</td>\n",
              "      <td>115.077713</td>\n",
              "      <td>37.777705</td>\n",
              "      <td>0.483979</td>\n",
              "      <td>21.085875</td>\n",
              "      <td>12.948913</td>\n",
              "      <td>12.132737</td>\n",
              "      <td>-13.826677</td>\n",
              "      <td>25.146915</td>\n",
              "    </tr>\n",
              "    <tr>\n",
              "      <th>std</th>\n",
              "      <td>17.662129</td>\n",
              "      <td>10.515871</td>\n",
              "      <td>19.669471</td>\n",
              "      <td>14.515560</td>\n",
              "      <td>14.090605</td>\n",
              "      <td>40.696741</td>\n",
              "      <td>0.286319</td>\n",
              "      <td>8.550365</td>\n",
              "      <td>3.516762</td>\n",
              "      <td>2.848401</td>\n",
              "      <td>12.029824</td>\n",
              "      <td>10.242513</td>\n",
              "    </tr>\n",
              "    <tr>\n",
              "      <th>min</th>\n",
              "      <td>26.147921</td>\n",
              "      <td>-6.554948</td>\n",
              "      <td>14.000000</td>\n",
              "      <td>13.366931</td>\n",
              "      <td>70.082575</td>\n",
              "      <td>-10.675871</td>\n",
              "      <td>0.003220</td>\n",
              "      <td>7.027000</td>\n",
              "      <td>7.037800</td>\n",
              "      <td>7.030600</td>\n",
              "      <td>-35.287375</td>\n",
              "      <td>7.007900</td>\n",
              "    </tr>\n",
              "    <tr>\n",
              "      <th>25%</th>\n",
              "      <td>50.102507</td>\n",
              "      <td>13.048130</td>\n",
              "      <td>41.116964</td>\n",
              "      <td>34.380345</td>\n",
              "      <td>107.309280</td>\n",
              "      <td>7.263227</td>\n",
              "      <td>0.250212</td>\n",
              "      <td>13.054400</td>\n",
              "      <td>10.151175</td>\n",
              "      <td>9.801870</td>\n",
              "      <td>-23.732086</td>\n",
              "      <td>16.900900</td>\n",
              "    </tr>\n",
              "    <tr>\n",
              "      <th>50%</th>\n",
              "      <td>65.274888</td>\n",
              "      <td>18.798899</td>\n",
              "      <td>56.150000</td>\n",
              "      <td>44.639597</td>\n",
              "      <td>115.650323</td>\n",
              "      <td>31.946516</td>\n",
              "      <td>0.501280</td>\n",
              "      <td>21.750600</td>\n",
              "      <td>12.770050</td>\n",
              "      <td>11.973735</td>\n",
              "      <td>-14.892070</td>\n",
              "      <td>24.509400</td>\n",
              "    </tr>\n",
              "    <tr>\n",
              "      <th>75%</th>\n",
              "      <td>77.593672</td>\n",
              "      <td>24.815515</td>\n",
              "      <td>68.102805</td>\n",
              "      <td>55.146868</td>\n",
              "      <td>123.133365</td>\n",
              "      <td>55.371614</td>\n",
              "      <td>0.708476</td>\n",
              "      <td>28.194975</td>\n",
              "      <td>15.950475</td>\n",
              "      <td>14.609660</td>\n",
              "      <td>-2.937705</td>\n",
              "      <td>33.204375</td>\n",
              "    </tr>\n",
              "    <tr>\n",
              "      <th>max</th>\n",
              "      <td>129.834041</td>\n",
              "      <td>49.431864</td>\n",
              "      <td>125.742385</td>\n",
              "      <td>121.429566</td>\n",
              "      <td>163.071041</td>\n",
              "      <td>418.543082</td>\n",
              "      <td>0.998827</td>\n",
              "      <td>36.743900</td>\n",
              "      <td>19.324000</td>\n",
              "      <td>16.821080</td>\n",
              "      <td>6.868423</td>\n",
              "      <td>44.233800</td>\n",
              "    </tr>\n",
              "  </tbody>\n",
              "</table>\n",
              "</div>\n",
              "      <button class=\"colab-df-convert\" onclick=\"convertToInteractive('df-5e7d7675-863a-49c5-82e1-d406422ce10f')\"\n",
              "              title=\"Convert this dataframe to an interactive table.\"\n",
              "              style=\"display:none;\">\n",
              "        \n",
              "  <svg xmlns=\"http://www.w3.org/2000/svg\" height=\"24px\"viewBox=\"0 0 24 24\"\n",
              "       width=\"24px\">\n",
              "    <path d=\"M0 0h24v24H0V0z\" fill=\"none\"/>\n",
              "    <path d=\"M18.56 5.44l.94 2.06.94-2.06 2.06-.94-2.06-.94-.94-2.06-.94 2.06-2.06.94zm-11 1L8.5 8.5l.94-2.06 2.06-.94-2.06-.94L8.5 2.5l-.94 2.06-2.06.94zm10 10l.94 2.06.94-2.06 2.06-.94-2.06-.94-.94-2.06-.94 2.06-2.06.94z\"/><path d=\"M17.41 7.96l-1.37-1.37c-.4-.4-.92-.59-1.43-.59-.52 0-1.04.2-1.43.59L10.3 9.45l-7.72 7.72c-.78.78-.78 2.05 0 2.83L4 21.41c.39.39.9.59 1.41.59.51 0 1.02-.2 1.41-.59l7.78-7.78 2.81-2.81c.8-.78.8-2.07 0-2.86zM5.41 20L4 18.59l7.72-7.72 1.47 1.35L5.41 20z\"/>\n",
              "  </svg>\n",
              "      </button>\n",
              "      \n",
              "  <style>\n",
              "    .colab-df-container {\n",
              "      display:flex;\n",
              "      flex-wrap:wrap;\n",
              "      gap: 12px;\n",
              "    }\n",
              "\n",
              "    .colab-df-convert {\n",
              "      background-color: #E8F0FE;\n",
              "      border: none;\n",
              "      border-radius: 50%;\n",
              "      cursor: pointer;\n",
              "      display: none;\n",
              "      fill: #1967D2;\n",
              "      height: 32px;\n",
              "      padding: 0 0 0 0;\n",
              "      width: 32px;\n",
              "    }\n",
              "\n",
              "    .colab-df-convert:hover {\n",
              "      background-color: #E2EBFA;\n",
              "      box-shadow: 0px 1px 2px rgba(60, 64, 67, 0.3), 0px 1px 3px 1px rgba(60, 64, 67, 0.15);\n",
              "      fill: #174EA6;\n",
              "    }\n",
              "\n",
              "    [theme=dark] .colab-df-convert {\n",
              "      background-color: #3B4455;\n",
              "      fill: #D2E3FC;\n",
              "    }\n",
              "\n",
              "    [theme=dark] .colab-df-convert:hover {\n",
              "      background-color: #434B5C;\n",
              "      box-shadow: 0px 1px 3px 1px rgba(0, 0, 0, 0.15);\n",
              "      filter: drop-shadow(0px 1px 2px rgba(0, 0, 0, 0.3));\n",
              "      fill: #FFFFFF;\n",
              "    }\n",
              "  </style>\n",
              "\n",
              "      <script>\n",
              "        const buttonEl =\n",
              "          document.querySelector('#df-5e7d7675-863a-49c5-82e1-d406422ce10f button.colab-df-convert');\n",
              "        buttonEl.style.display =\n",
              "          google.colab.kernel.accessAllowed ? 'block' : 'none';\n",
              "\n",
              "        async function convertToInteractive(key) {\n",
              "          const element = document.querySelector('#df-5e7d7675-863a-49c5-82e1-d406422ce10f');\n",
              "          const dataTable =\n",
              "            await google.colab.kernel.invokeFunction('convertToInteractive',\n",
              "                                                     [key], {});\n",
              "          if (!dataTable) return;\n",
              "\n",
              "          const docLinkHtml = 'Like what you see? Visit the ' +\n",
              "            '<a target=\"_blank\" href=https://colab.research.google.com/notebooks/data_table.ipynb>data table notebook</a>'\n",
              "            + ' to learn more about interactive tables.';\n",
              "          element.innerHTML = '';\n",
              "          dataTable['output_type'] = 'display_data';\n",
              "          await google.colab.output.renderOutput(dataTable, element);\n",
              "          const docLink = document.createElement('div');\n",
              "          docLink.innerHTML = docLinkHtml;\n",
              "          element.appendChild(docLink);\n",
              "        }\n",
              "      </script>\n",
              "    </div>\n",
              "  </div>\n",
              "  "
            ]
          },
          "metadata": {},
          "execution_count": 13
        }
      ],
      "source": [
        "# Anormais\n",
        "df.query('class_att == \"Abnormal\"').describe()"
      ]
    },
    {
      "cell_type": "markdown",
      "metadata": {
        "id": "JrqKCTeZEHRC"
      },
      "source": [
        "Só com essa análise podemos notar que a feature \"degree_spondylolisthesis\" tem uma distruibuição bastante distinta das instâncias normais para as anormais. Por exemplo, uma média de 2,18 para as instâncias normais vs 37,78 para as anormais.\n",
        "\n",
        "Dito isso vamos comparar visualmente a distribuição dela para as duas classes do problema:"
      ]
    },
    {
      "cell_type": "code",
      "execution_count": 14,
      "metadata": {
        "colab": {
          "base_uri": "https://localhost:8080/",
          "height": 387
        },
        "id": "-s2st-wxEHRD",
        "outputId": "dbe710fb-73dc-4019-fde8-26e4d9394da7"
      },
      "outputs": [
        {
          "output_type": "execute_result",
          "data": {
            "text/plain": [
              "<seaborn.axisgrid.FacetGrid at 0x7f4561bea100>"
            ]
          },
          "metadata": {},
          "execution_count": 14
        },
        {
          "output_type": "display_data",
          "data": {
            "text/plain": [
              "<Figure size 444.125x360 with 1 Axes>"
            ],
            "image/png": "[encoded data removed]"
          },
          "metadata": {
            "needs_background": "light"
          }
        }
      ],
      "source": [
        "sns.displot(data=df, x='degree_spondylolisthesis', hue='class_att')"
      ]
    },
    {
      "cell_type": "markdown",
      "metadata": {
        "id": "WnEJaUPQEHRD"
      },
      "source": [
        "Conforme pode ser notado, existe uma diferença considerável na distribuição da feature para as duas classes, sugerindo que a mesma vai ter uma boa importância na classificação"
      ]
    },
    {
      "cell_type": "markdown",
      "metadata": {
        "id": "TQ7h7UKvEHRD"
      },
      "source": [
        "### Histogramas das features"
      ]
    },
    {
      "cell_type": "code",
      "execution_count": 15,
      "metadata": {
        "colab": {
          "base_uri": "https://localhost:8080/",
          "height": 675
        },
        "id": "QGnvlOfZEHRE",
        "outputId": "b6db3fd2-8f7d-40de-8bc3-0d599411081c"
      },
      "outputs": [
        {
          "output_type": "display_data",
          "data": {
            "text/plain": [
              "<Figure size 2160x864 with 12 Axes>"
            ],
            "image/png": "[encoded data removed]"
          },
          "metadata": {
            "needs_background": "light"
          }
        }
      ],
      "source": [
        "fig, axes = plt.subplots(3, 4)\n",
        "fig.set_size_inches((30, 12))\n",
        "\n",
        "cnt = 0\n",
        "columns = df.columns\n",
        "for row in range(3):\n",
        "    for col in range(4):\n",
        "        sns.histplot(data=df, x=columns[cnt], hue='class_att', ax=axes[row, col])\n",
        "        cnt += 1"
      ]
    },
    {
      "cell_type": "markdown",
      "metadata": {
        "id": "uIzYC59pEHRE"
      },
      "source": [
        "### Boxplot das features"
      ]
    },
    {
      "cell_type": "code",
      "execution_count": 16,
      "metadata": {
        "colab": {
          "base_uri": "https://localhost:8080/",
          "height": 673
        },
        "id": "1EaZS-hcEHRF",
        "outputId": "74e9c197-2778-49df-c7e9-858788d1feac"
      },
      "outputs": [
        {
          "output_type": "display_data",
          "data": {
            "text/plain": [
              "<Figure size 2160x864 with 12 Axes>"
            ],
            "image/png": "[encoded data removed]"
          },
          "metadata": {
            "needs_background": "light"
          }
        }
      ],
      "source": [
        "fig, axes = plt.subplots(3, 4, sharex=True)\n",
        "fig.set_size_inches((30, 12))\n",
        "\n",
        "cnt = 0\n",
        "columns = df.columns\n",
        "for row in range(3):\n",
        "    for col in range(4):\n",
        "        sns.boxplot(data=df, x='class_att', y=columns[cnt], ax=axes[row, col])\n",
        "        cnt += 1"
      ]
    },
    {
      "cell_type": "markdown",
      "metadata": {
        "id": "nuvKFHXuEHRF"
      },
      "source": [
        "### Correlação entre features"
      ]
    },
    {
      "cell_type": "code",
      "execution_count": 17,
      "metadata": {
        "colab": {
          "base_uri": "https://localhost:8080/",
          "height": 878
        },
        "id": "0U6UVhlbEHRF",
        "outputId": "12b5d0d9-ae48-4e81-ffdd-2e79ee1dd8a1"
      },
      "outputs": [
        {
          "output_type": "execute_result",
          "data": {
            "text/plain": [
              "(array([ 0.5,  1.5,  2.5,  3.5,  4.5,  5.5,  6.5,  7.5,  8.5,  9.5, 10.5,\n",
              "        11.5]),\n",
              " [Text(0.5, 0, 'pelvic_incidence'),\n",
              "  Text(1.5, 0, 'pelvic_tilt'),\n",
              "  Text(2.5, 0, 'lumbar_lordosis_angle'),\n",
              "  Text(3.5, 0, 'sacral_slope'),\n",
              "  Text(4.5, 0, 'pelvic_radius'),\n",
              "  Text(5.5, 0, 'degree_spondylolisthesis'),\n",
              "  Text(6.5, 0, 'pelvic_slope'),\n",
              "  Text(7.5, 0, 'Direct_tilt'),\n",
              "  Text(8.5, 0, 'thoracic_slope'),\n",
              "  Text(9.5, 0, 'cervical_tilt'),\n",
              "  Text(10.5, 0, 'sacrum_angle'),\n",
              "  Text(11.5, 0, 'scoliosis_slope')])"
            ]
          },
          "metadata": {},
          "execution_count": 17
        },
        {
          "output_type": "display_data",
          "data": {
            "text/plain": [
              "<Figure size 1440x720 with 2 Axes>"
            ],
            "image/png": "[encoded data removed]"
          },
          "metadata": {
            "needs_background": "light"
          }
        }
      ],
      "source": [
        "plt.figure(figsize=(20,10))\n",
        "sns.heatmap(df.corr())\n",
        "plt.xticks(rotation=-12)"
      ]
    },
    {
      "cell_type": "code",
      "execution_count": 18,
      "metadata": {
        "colab": {
          "base_uri": "https://localhost:8080/",
          "height": 569
        },
        "id": "E1U6tgV_EHRF",
        "outputId": "77f82303-4ae2-4579-ed84-ccb5fc04d39b"
      },
      "outputs": [
        {
          "output_type": "stream",
          "name": "stderr",
          "text": [
            "/usr/local/lib/python3.9/dist-packages/pandas/plotting/_matplotlib/core.py:1114: UserWarning: No data for colormapping provided via 'c'. Parameters 'cmap' will be ignored\n",
            "  scatter = ax.scatter(\n"
          ]
        },
        {
          "output_type": "execute_result",
          "data": {
            "text/plain": [
              "<Axes: title={'center': 'Plot pelvic_incidence x pelvic_radius'}, xlabel='pelvic_incidence', ylabel='sacral_slope'>"
            ]
          },
          "metadata": {},
          "execution_count": 18
        },
        {
          "output_type": "display_data",
          "data": {
            "text/plain": [
              "<Figure size 1440x576 with 2 Axes>"
            ],
            "image/png": "[encoded data removed]"
          },
          "metadata": {
            "needs_background": "light"
          }
        }
      ],
      "source": [
        "fig, axes = plt.subplots(1, 2)\n",
        "fig.set_size_inches((20, 8))\n",
        "\n",
        "df.query('class_att == \"Normal\"').plot(x='pelvic_incidence', y='pelvic_radius', kind='scatter', title='Plot pelvic_incidence x pelvic_radius', ax=axes[0], color='b', label='Normal')\n",
        "df.query('class_att == \"Abnormal\"').plot(x='pelvic_incidence', y='pelvic_radius', kind='scatter', title='Plot pelvic_incidence x pelvic_radius', ax=axes[0], color='r', label='Abnormal')\n",
        "\n",
        "df.query('class_att == \"Normal\"').plot(x='pelvic_incidence', y='sacral_slope', kind='scatter', title='Plot pelvic_incidence x pelvic_radius',  ax=axes[1], color='b', label='Normal')\n",
        "df.query('class_att == \"Abnormal\"').plot(x='pelvic_incidence', y='sacral_slope', kind='scatter', title='Plot pelvic_incidence x pelvic_radius',  ax=axes[1], color='r', label='Abnormal')"
      ]
    },
    {
      "cell_type": "markdown",
      "metadata": {
        "id": "lknWlKogEHRG"
      },
      "source": [
        "## Plots de redução de dimensionalidade"
      ]
    },
    {
      "cell_type": "markdown",
      "metadata": {
        "id": "XveK4d0PEHRH"
      },
      "source": [
        "### PCA"
      ]
    },
    {
      "cell_type": "code",
      "execution_count": 19,
      "metadata": {
        "id": "h9rM0QWvEHRH"
      },
      "outputs": [],
      "source": [
        "from sklearn.decomposition import PCA\n",
        "from sklearn.manifold import TSNE"
      ]
    },
    {
      "cell_type": "code",
      "execution_count": 20,
      "metadata": {
        "colab": {
          "base_uri": "https://localhost:8080/",
          "height": 517
        },
        "id": "R8r524_rEHRJ",
        "outputId": "7708b355-3339-42e4-8bd5-effe519424ba"
      },
      "outputs": [
        {
          "output_type": "execute_result",
          "data": {
            "text/plain": [
              "[<matplotlib.lines.Line2D at 0x7f45584465e0>]"
            ]
          },
          "metadata": {},
          "execution_count": 20
        },
        {
          "output_type": "display_data",
          "data": {
            "text/plain": [
              "<Figure size 1440x576 with 1 Axes>"
            ],
            "image/png": "[encoded data removed]"
          },
          "metadata": {
            "needs_background": "light"
          }
        }
      ],
      "source": [
        "from sklearn.preprocessing import StandardScaler\n",
        "X_scal = StandardScaler().fit_transform(df.drop(columns=['class_att']))\n",
        "pca = PCA(n_components=2)\n",
        "principal_components = pca.fit_transform(X_scal)\n",
        "\n",
        "pca_normal = principal_components[df.query('class_att == \"Normal\"').index]\n",
        "pca_abnormal = principal_components[df.query('class_att == \"Abnormal\"').index]\n",
        "\n",
        "plt.figure(figsize=(20, 8))\n",
        "plt.title('Redução de dimensionalidade com PCA')\n",
        "plt.plot(pca_normal[:, 0], pca_normal[:, 1], 'o', color='b')\n",
        "plt.plot(pca_abnormal[:, 0], pca_abnormal[:, 1], 'o', color='r')\n"
      ]
    },
    {
      "cell_type": "markdown",
      "metadata": {
        "id": "quTNXgJCEHRK"
      },
      "source": [
        "### t-SNE"
      ]
    },
    {
      "cell_type": "code",
      "execution_count": 21,
      "metadata": {
        "colab": {
          "base_uri": "https://localhost:8080/",
          "height": 517
        },
        "id": "W1CioqvhEHRK",
        "outputId": "eba060a5-287f-4bf3-ff6e-925aa75314a0"
      },
      "outputs": [
        {
          "output_type": "execute_result",
          "data": {
            "text/plain": [
              "[<matplotlib.lines.Line2D at 0x7f45583ddc10>]"
            ]
          },
          "metadata": {},
          "execution_count": 21
        },
        {
          "output_type": "display_data",
          "data": {
            "text/plain": [
              "<Figure size 1440x576 with 1 Axes>"
            ],
            "image/png": "[encoded data removed]"
          },
          "metadata": {
            "needs_background": "light"
          }
        }
      ],
      "source": [
        "tsne = TSNE(random_state=random_seed, n_components=2, verbose=0, perplexity=40, n_iter=3800).fit_transform(X_scal)\n",
        "\n",
        "tnse_normal = tsne[df.query('class_att == \"Normal\"').index]\n",
        "tnse_abnormal = tsne[df.query('class_att == \"Abnormal\"').index]\n",
        "\n",
        "plt.figure(figsize=(20, 8))\n",
        "plt.title('Redução de dimensionalidade com t-SNE')\n",
        "plt.plot(tnse_normal[:, 0], tnse_normal[:, 1], 'o', color='b')\n",
        "plt.plot(tnse_abnormal[:, 0], tnse_abnormal[:, 1], 'o', color='r')"
      ]
    },
    {
      "cell_type": "markdown",
      "metadata": {
        "id": "46AbQJsQEHRK"
      },
      "source": [
        "# Divisão de conjuntos de treino, validação e teste"
      ]
    },
    {
      "cell_type": "markdown",
      "metadata": {
        "id": "bJBstqO3EHRL"
      },
      "source": [
        "Convertendo o campo respectivo a classe para dígitos binários"
      ]
    },
    {
      "cell_type": "code",
      "execution_count": 22,
      "metadata": {
        "id": "PbTZnTMvEHRL"
      },
      "outputs": [],
      "source": [
        "df['class_att'] = df['class_att'].apply(lambda c: 1 if c == 'Abnormal' else 0)"
      ]
    },
    {
      "cell_type": "markdown",
      "metadata": {
        "id": "Cb2b9HsiEHRL"
      },
      "source": [
        "Divisão dos dados em conjuntos diferentes"
      ]
    },
    {
      "cell_type": "code",
      "execution_count": 23,
      "metadata": {
        "colab": {
          "base_uri": "https://localhost:8080/"
        },
        "id": "Or91Na4_EHRL",
        "outputId": "c2467f73-7c0e-4754-bc54-f6fdbe636680"
      },
      "outputs": [
        {
          "output_type": "execute_result",
          "data": {
            "text/plain": [
              "(217, 217, 93, 93)"
            ]
          },
          "metadata": {},
          "execution_count": 23
        }
      ],
      "source": [
        "X_train, X_test, y_train, y_test = train_test_split(df.drop(columns=['class_att']), df['class_att'], test_size=0.3, random_state=random_seed)\n",
        "len(X_train), len(y_train), len(X_test), len(y_test)"
      ]
    },
    {
      "cell_type": "markdown",
      "metadata": {
        "id": "znCrKb6cEHRL"
      },
      "source": [
        "# Modelagem"
      ]
    },
    {
      "cell_type": "markdown",
      "metadata": {
        "id": "a67Tc6OPEHRM"
      },
      "source": [
        "Uma baseline mínima seria uma acurácia de 210/310 = 67,74%, visto que é a fração da maior classe no dataset. Um modelo que tenha resultados piores do que isso não tem utilidade"
      ]
    },
    {
      "cell_type": "markdown",
      "metadata": {
        "id": "buuEWPkdEHRM"
      },
      "source": [
        "## MLP"
      ]
    },
    {
      "cell_type": "code",
      "execution_count": 24,
      "metadata": {
        "id": "Auzf4MvnEHRM"
      },
      "outputs": [],
      "source": [
        "mlpc1 = MLPClassifier(hidden_layer_sizes=(5, 5), activation='relu', random_state=random_seed, max_iter=200)"
      ]
    },
    {
      "cell_type": "code",
      "execution_count": 25,
      "metadata": {
        "colab": {
          "base_uri": "https://localhost:8080/",
          "height": 111
        },
        "id": "904GVg6nEHRM",
        "outputId": "f5a1e3cf-48cb-40bd-dc49-7b7017305963"
      },
      "outputs": [
        {
          "output_type": "stream",
          "name": "stderr",
          "text": [
            "/usr/local/lib/python3.9/dist-packages/sklearn/neural_network/_multilayer_perceptron.py:686: ConvergenceWarning: Stochastic Optimizer: Maximum iterations (200) reached and the optimization hasn't converged yet.\n",
            "  warnings.warn(\n"
          ]
        },
        {
          "output_type": "execute_result",
          "data": {
            "text/plain": [
              "MLPClassifier(hidden_layer_sizes=(5, 5), random_state=33)"
            ],
            "text/html": [
              "<style>#sk-container-id-1 {color: black;background-color: white;}#sk-container-id-1 pre{padding: 0;}#sk-container-id-1 div.sk-toggleable {background-color: white;}#sk-container-id-1 label.sk-toggleable__label {cursor: pointer;display: block;width: 100%;margin-bottom: 0;padding: 0.3em;box-sizing: border-box;text-align: center;}#sk-container-id-1 label.sk-toggleable__label-arrow:before {content: \"▸\";float: left;margin-right: 0.25em;color: #696969;}#sk-container-id-1 label.sk-toggleable__label-arrow:hover:before {color: black;}#sk-container-id-1 div.sk-estimator:hover label.sk-toggleable__label-arrow:before {color: black;}#sk-container-id-1 div.sk-toggleable__content {max-height: 0;max-width: 0;overflow: hidden;text-align: left;background-color: #f0f8ff;}#sk-container-id-1 div.sk-toggleable__content pre {margin: 0.2em;color: black;border-radius: 0.25em;background-color: #f0f8ff;}#sk-container-id-1 input.sk-toggleable__control:checked~div.sk-toggleable__content {max-height: 200px;max-width: 100%;overflow: auto;}#sk-container-id-1 input.sk-toggleable__control:checked~label.sk-toggleable__label-arrow:before {content: \"▾\";}#sk-container-id-1 div.sk-estimator input.sk-toggleable__control:checked~label.sk-toggleable__label {background-color: #d4ebff;}#sk-container-id-1 div.sk-label input.sk-toggleable__control:checked~label.sk-toggleable__label {background-color: #d4ebff;}#sk-container-id-1 input.sk-hidden--visually {border: 0;clip: rect(1px 1px 1px 1px);clip: rect(1px, 1px, 1px, 1px);height: 1px;margin: -1px;overflow: hidden;padding: 0;position: absolute;width: 1px;}#sk-container-id-1 div.sk-estimator {font-family: monospace;background-color: #f0f8ff;border: 1px dotted black;border-radius: 0.25em;box-sizing: border-box;margin-bottom: 0.5em;}#sk-container-id-1 div.sk-estimator:hover {background-color: #d4ebff;}#sk-container-id-1 div.sk-parallel-item::after {content: \"\";width: 100%;border-bottom: 1px solid gray;flex-grow: 1;}#sk-container-id-1 div.sk-label:hover label.sk-toggleable__label {background-color: #d4ebff;}#sk-container-id-1 div.sk-serial::before {content: \"\";position: absolute;border-left: 1px solid gray;box-sizing: border-box;top: 0;bottom: 0;left: 50%;z-index: 0;}#sk-container-id-1 div.sk-serial {display: flex;flex-direction: column;align-items: center;background-color: white;padding-right: 0.2em;padding-left: 0.2em;position: relative;}#sk-container-id-1 div.sk-item {position: relative;z-index: 1;}#sk-container-id-1 div.sk-parallel {display: flex;align-items: stretch;justify-content: center;background-color: white;position: relative;}#sk-container-id-1 div.sk-item::before, #sk-container-id-1 div.sk-parallel-item::before {content: \"\";position: absolute;border-left: 1px solid gray;box-sizing: border-box;top: 0;bottom: 0;left: 50%;z-index: -1;}#sk-container-id-1 div.sk-parallel-item {display: flex;flex-direction: column;z-index: 1;position: relative;background-color: white;}#sk-container-id-1 div.sk-parallel-item:first-child::after {align-self: flex-end;width: 50%;}#sk-container-id-1 div.sk-parallel-item:last-child::after {align-self: flex-start;width: 50%;}#sk-container-id-1 div.sk-parallel-item:only-child::after {width: 0;}#sk-container-id-1 div.sk-dashed-wrapped {border: 1px dashed gray;margin: 0 0.4em 0.5em 0.4em;box-sizing: border-box;padding-bottom: 0.4em;background-color: white;}#sk-container-id-1 div.sk-label label {font-family: monospace;font-weight: bold;display: inline-block;line-height: 1.2em;}#sk-container-id-1 div.sk-label-container {text-align: center;}#sk-container-id-1 div.sk-container {/* jupyter's `normalize.less` sets `[hidden] { display: none; }` but bootstrap.min.css set `[hidden] { display: none !important; }` so we also need the `!important` here to be able to override the default hidden behavior on the sphinx rendered scikit-learn.org. See: https://github.com/scikit-learn/scikit-learn/issues/21755 */display: inline-block !important;position: relative;}#sk-container-id-1 div.sk-text-repr-fallback {display: none;}</style><div id=\"sk-container-id-1\" class=\"sk-top-container\"><div class=\"sk-text-repr-fallback\"><pre>MLPClassifier(hidden_layer_sizes=(5, 5), random_state=33)</pre><b>In a Jupyter environment, please rerun this cell to show the HTML representation or trust the notebook. <br />On GitHub, the HTML representation is unable to render, please try loading this page with nbviewer.org.</b></div><div class=\"sk-container\" hidden><div class=\"sk-item\"><div class=\"sk-estimator sk-toggleable\"><input class=\"sk-toggleable__control sk-hidden--visually\" id=\"sk-estimator-id-1\" type=\"checkbox\" checked><label for=\"sk-estimator-id-1\" class=\"sk-toggleable__label sk-toggleable__label-arrow\">MLPClassifier</label><div class=\"sk-toggleable__content\"><pre>MLPClassifier(hidden_layer_sizes=(5, 5), random_state=33)</pre></div></div></div></div></div>"
            ]
          },
          "metadata": {},
          "execution_count": 25
        }
      ],
      "source": [
        "mlpc1.fit(X_train, y_train)"
      ]
    },
    {
      "cell_type": "code",
      "execution_count": 26,
      "metadata": {
        "colab": {
          "base_uri": "https://localhost:8080/",
          "height": 299
        },
        "id": "ZIA5twduEHRM",
        "outputId": "3ef5bebe-4f4e-4011-9b4b-baf517496a42"
      },
      "outputs": [
        {
          "output_type": "execute_result",
          "data": {
            "text/plain": [
              "[<matplotlib.lines.Line2D at 0x7f4560d76070>]"
            ]
          },
          "metadata": {},
          "execution_count": 26
        },
        {
          "output_type": "display_data",
          "data": {
            "text/plain": [
              "<Figure size 432x288 with 1 Axes>"
            ],
            "image/png": "[encoded data removed]"
          },
          "metadata": {
            "needs_background": "light"
          }
        }
      ],
      "source": [
        "plt.title('Curva da cost function pelas iterações')\n",
        "plt.plot(mlpc1.loss_curve_)"
      ]
    },
    {
      "cell_type": "code",
      "execution_count": 27,
      "metadata": {
        "colab": {
          "base_uri": "https://localhost:8080/",
          "height": 36
        },
        "id": "0zzkWqMeEHRN",
        "outputId": "e0240163-cf40-4376-f72b-5409a9d99122"
      },
      "outputs": [
        {
          "output_type": "execute_result",
          "data": {
            "text/plain": [
              "'Acurácia no treino: 0.815668202764977. Acurácia no teste: 0.7741935483870968'"
            ],
            "application/vnd.google.colaboratory.intrinsic+json": {
              "type": "string"
            }
          },
          "metadata": {},
          "execution_count": 27
        }
      ],
      "source": [
        "f\"Acurácia no treino: {mlpc1.score(X_train, y_train)}. Acurácia no teste: {mlpc1.score(X_test, y_test)}\""
      ]
    },
    {
      "cell_type": "markdown",
      "metadata": {
        "id": "SyqK3u9ZEHRN"
      },
      "source": [
        "Portanto, esse modelo simples modelo resultou em uma acurácia de aproximadamente 77,41% no conjunto de teste "
      ]
    },
    {
      "cell_type": "markdown",
      "source": [
        "##Tuning do modelo"
      ],
      "metadata": {
        "id": "RTZMjn3IG-pY"
      }
    },
    {
      "cell_type": "markdown",
      "source": [
        "Agora vamos tentar melhorar o resultado!\n",
        "\n",
        "---\n",
        "\n",
        "\n",
        "Primeiro vou testar outras funcões de ativação, mantendo-se os mesmos parâmetros"
      ],
      "metadata": {
        "id": "LLhUpyHmJYmr"
      }
    },
    {
      "cell_type": "code",
      "source": [
        "mlpc1 = MLPClassifier(hidden_layer_sizes=(5, 5), activation='tanh', random_state=random_seed, max_iter=200)\n",
        "mlpc1.fit(X_train, y_train)\n",
        "f\"Acurácia no treino: {mlpc1.score(X_train, y_train)}. Acurácia no teste: {mlpc1.score(X_test, y_test)}\""
      ],
      "metadata": {
        "colab": {
          "base_uri": "https://localhost:8080/",
          "height": 72
        },
        "id": "UF0AUUQuG9XI",
        "outputId": "c23a4f0e-4e24-4e09-d95d-8e725e8cf8b8"
      },
      "execution_count": 33,
      "outputs": [
        {
          "output_type": "stream",
          "name": "stderr",
          "text": [
            "/usr/local/lib/python3.9/dist-packages/sklearn/neural_network/_multilayer_perceptron.py:686: ConvergenceWarning: Stochastic Optimizer: Maximum iterations (200) reached and the optimization hasn't converged yet.\n",
            "  warnings.warn(\n"
          ]
        },
        {
          "output_type": "execute_result",
          "data": {
            "text/plain": [
              "'Acurácia no treino: 0.8018433179723502. Acurácia no teste: 0.7526881720430108'"
            ],
            "application/vnd.google.colaboratory.intrinsic+json": {
              "type": "string"
            }
          },
          "metadata": {},
          "execution_count": 33
        }
      ]
    },
    {
      "cell_type": "code",
      "source": [
        "mlpc1 = MLPClassifier(hidden_layer_sizes=(5, 5), activation='logistic', random_state=random_seed, max_iter=200)\n",
        "mlpc1.fit(X_train, y_train)\n",
        "f\"Acurácia no treino: {mlpc1.score(X_train, y_train)}. Acurácia no teste: {mlpc1.score(X_test, y_test)}\""
      ],
      "metadata": {
        "colab": {
          "base_uri": "https://localhost:8080/",
          "height": 72
        },
        "id": "LGntiup2MQfK",
        "outputId": "5502e80a-1340-449b-fb14-eecdaa5cced0"
      },
      "execution_count": 34,
      "outputs": [
        {
          "output_type": "stream",
          "name": "stderr",
          "text": [
            "/usr/local/lib/python3.9/dist-packages/sklearn/neural_network/_multilayer_perceptron.py:686: ConvergenceWarning: Stochastic Optimizer: Maximum iterations (200) reached and the optimization hasn't converged yet.\n",
            "  warnings.warn(\n"
          ]
        },
        {
          "output_type": "execute_result",
          "data": {
            "text/plain": [
              "'Acurácia no treino: 0.7004608294930875. Acurácia no teste: 0.6236559139784946'"
            ],
            "application/vnd.google.colaboratory.intrinsic+json": {
              "type": "string"
            }
          },
          "metadata": {},
          "execution_count": 34
        }
      ]
    },
    {
      "cell_type": "markdown",
      "source": [
        "Percebe-se que o melhor resultado ,com essas configurações, é a função ReLU\n",
        "\n",
        "\n",
        "---\n",
        "\n",
        "Agora é hora de tentar outras configurações da rede de perceptrons"
      ],
      "metadata": {
        "id": "WQyw1Tc6MWIz"
      }
    },
    {
      "cell_type": "markdown",
      "source": [
        "Três layers com 5 perceptrons em cada"
      ],
      "metadata": {
        "id": "LiGh-DQFNsLR"
      }
    },
    {
      "cell_type": "code",
      "source": [
        "mlpc1 = MLPClassifier(hidden_layer_sizes=(5, 5, 5), activation='relu', random_state=random_seed, max_iter=200)\n",
        "mlpc1.fit(X_train, y_train)\n",
        "f\"Acurácia no treino: {mlpc1.score(X_train, y_train)}. Acurácia no teste: {mlpc1.score(X_test, y_test)}\""
      ],
      "metadata": {
        "colab": {
          "base_uri": "https://localhost:8080/",
          "height": 72
        },
        "id": "6ELL5MHqMNwB",
        "outputId": "e6cdcac4-3de2-4b08-bf7c-e643c71af634"
      },
      "execution_count": 38,
      "outputs": [
        {
          "output_type": "stream",
          "name": "stderr",
          "text": [
            "/usr/local/lib/python3.9/dist-packages/sklearn/neural_network/_multilayer_perceptron.py:686: ConvergenceWarning: Stochastic Optimizer: Maximum iterations (200) reached and the optimization hasn't converged yet.\n",
            "  warnings.warn(\n"
          ]
        },
        {
          "output_type": "execute_result",
          "data": {
            "text/plain": [
              "'Acurácia no treino: 0.8341013824884793. Acurácia no teste: 0.7634408602150538'"
            ],
            "application/vnd.google.colaboratory.intrinsic+json": {
              "type": "string"
            }
          },
          "metadata": {},
          "execution_count": 38
        }
      ]
    },
    {
      "cell_type": "markdown",
      "source": [
        "Quatro layers"
      ],
      "metadata": {
        "id": "UQFqDhZvQfue"
      }
    },
    {
      "cell_type": "code",
      "source": [
        "mlpc1 = MLPClassifier(hidden_layer_sizes=(5, 5, 5, 5), activation='relu', random_state=random_seed, max_iter=200)\n",
        "mlpc1.fit(X_train, y_train)\n",
        "f\"Acurácia no treino: {mlpc1.score(X_train, y_train)}. Acurácia no teste: {mlpc1.score(X_test, y_test)}\""
      ],
      "metadata": {
        "colab": {
          "base_uri": "https://localhost:8080/",
          "height": 72
        },
        "id": "MVHJ3WlnQdTi",
        "outputId": "9438b13d-ef2f-4036-f764-9b26c5c56cd6"
      },
      "execution_count": 36,
      "outputs": [
        {
          "output_type": "stream",
          "name": "stderr",
          "text": [
            "/usr/local/lib/python3.9/dist-packages/sklearn/neural_network/_multilayer_perceptron.py:686: ConvergenceWarning: Stochastic Optimizer: Maximum iterations (200) reached and the optimization hasn't converged yet.\n",
            "  warnings.warn(\n"
          ]
        },
        {
          "output_type": "execute_result",
          "data": {
            "text/plain": [
              "'Acurácia no treino: 0.8341013824884793. Acurácia no teste: 0.7849462365591398'"
            ],
            "application/vnd.google.colaboratory.intrinsic+json": {
              "type": "string"
            }
          },
          "metadata": {},
          "execution_count": 36
        }
      ]
    },
    {
      "cell_type": "markdown",
      "source": [
        "Cinco layers"
      ],
      "metadata": {
        "id": "qUp1orXqRdsH"
      }
    },
    {
      "cell_type": "code",
      "source": [
        "mlpc1 = MLPClassifier(hidden_layer_sizes=(5, 5, 5, 5, 5), activation='relu', random_state=random_seed, max_iter=200)\n",
        "mlpc1.fit(X_train, y_train)\n",
        "f\"Acurácia no treino: {mlpc1.score(X_train, y_train)}. Acurácia no teste: {mlpc1.score(X_test, y_test)}\""
      ],
      "metadata": {
        "colab": {
          "base_uri": "https://localhost:8080/",
          "height": 72
        },
        "id": "fCBPRn16RTMD",
        "outputId": "a2b79dcb-018d-409e-b1ee-7f1d9e1b0878"
      },
      "execution_count": 40,
      "outputs": [
        {
          "output_type": "stream",
          "name": "stderr",
          "text": [
            "/usr/local/lib/python3.9/dist-packages/sklearn/neural_network/_multilayer_perceptron.py:686: ConvergenceWarning: Stochastic Optimizer: Maximum iterations (200) reached and the optimization hasn't converged yet.\n",
            "  warnings.warn(\n"
          ]
        },
        {
          "output_type": "execute_result",
          "data": {
            "text/plain": [
              "'Acurácia no treino: 0.3271889400921659. Acurácia no teste: 0.3978494623655914'"
            ],
            "application/vnd.google.colaboratory.intrinsic+json": {
              "type": "string"
            }
          },
          "metadata": {},
          "execution_count": 40
        }
      ]
    },
    {
      "cell_type": "markdown",
      "source": [
        "Seis layers"
      ],
      "metadata": {
        "id": "uz4pKYanRi7r"
      }
    },
    {
      "cell_type": "code",
      "source": [
        "mlpc1 = MLPClassifier(hidden_layer_sizes=(5, 5, 5, 5, 5), activation='relu', random_state=random_seed, max_iter=200)\n",
        "mlpc1.fit(X_train, y_train)\n",
        "f\"Acurácia no treino: {mlpc1.score(X_train, y_train)}. Acurácia no teste: {mlpc1.score(X_test, y_test)}\""
      ],
      "metadata": {
        "colab": {
          "base_uri": "https://localhost:8080/",
          "height": 72
        },
        "id": "EP6D4JboQuv0",
        "outputId": "17b61b67-8f86-4967-dc6a-c82dfd620b27"
      },
      "execution_count": 41,
      "outputs": [
        {
          "output_type": "stream",
          "name": "stderr",
          "text": [
            "/usr/local/lib/python3.9/dist-packages/sklearn/neural_network/_multilayer_perceptron.py:686: ConvergenceWarning: Stochastic Optimizer: Maximum iterations (200) reached and the optimization hasn't converged yet.\n",
            "  warnings.warn(\n"
          ]
        },
        {
          "output_type": "execute_result",
          "data": {
            "text/plain": [
              "'Acurácia no treino: 0.3271889400921659. Acurácia no teste: 0.3978494623655914'"
            ],
            "application/vnd.google.colaboratory.intrinsic+json": {
              "type": "string"
            }
          },
          "metadata": {},
          "execution_count": 41
        }
      ]
    },
    {
      "cell_type": "markdown",
      "source": [
        "O número ideal parece estar entre 3 e 4 layers, vou tentar mudar os tamanhos com quatro layers"
      ],
      "metadata": {
        "id": "4rGa93wVRm6k"
      }
    },
    {
      "cell_type": "code",
      "source": [
        "mlpc1 = MLPClassifier(hidden_layer_sizes=(16, 8, 4, 2), activation='relu', random_state=random_seed, max_iter=200)\n",
        "mlpc1.fit(X_train, y_train)\n",
        "f\"Acurácia no treino: {mlpc1.score(X_train, y_train)}. Acurácia no teste: {mlpc1.score(X_test, y_test)}\""
      ],
      "metadata": {
        "colab": {
          "base_uri": "https://localhost:8080/",
          "height": 72
        },
        "id": "r09q-I5tQpj3",
        "outputId": "374cb718-f1b3-4e3a-96d2-e662bc1540b2"
      },
      "execution_count": 39,
      "outputs": [
        {
          "output_type": "stream",
          "name": "stderr",
          "text": [
            "/usr/local/lib/python3.9/dist-packages/sklearn/neural_network/_multilayer_perceptron.py:686: ConvergenceWarning: Stochastic Optimizer: Maximum iterations (200) reached and the optimization hasn't converged yet.\n",
            "  warnings.warn(\n"
          ]
        },
        {
          "output_type": "execute_result",
          "data": {
            "text/plain": [
              "'Acurácia no treino: 0.8064516129032258. Acurácia no teste: 0.7956989247311828'"
            ],
            "application/vnd.google.colaboratory.intrinsic+json": {
              "type": "string"
            }
          },
          "metadata": {},
          "execution_count": 39
        }
      ]
    },
    {
      "cell_type": "code",
      "source": [
        "mlpc1 = MLPClassifier(hidden_layer_sizes=(64, 32, 16, 8), activation='relu', random_state=random_seed, max_iter=200)\n",
        "mlpc1.fit(X_train, y_train)\n",
        "f\"Acurácia no treino: {mlpc1.score(X_train, y_train)}. Acurácia no teste: {mlpc1.score(X_test, y_test)}\""
      ],
      "metadata": {
        "colab": {
          "base_uri": "https://localhost:8080/",
          "height": 36
        },
        "id": "dHzELoFiSfym",
        "outputId": "5afcd97a-2167-400a-bdb3-d15976319477"
      },
      "execution_count": 42,
      "outputs": [
        {
          "output_type": "execute_result",
          "data": {
            "text/plain": [
              "'Acurácia no treino: 0.8018433179723502. Acurácia no teste: 0.7204301075268817'"
            ],
            "application/vnd.google.colaboratory.intrinsic+json": {
              "type": "string"
            }
          },
          "metadata": {},
          "execution_count": 42
        }
      ]
    },
    {
      "cell_type": "code",
      "source": [
        "mlpc1 = MLPClassifier(hidden_layer_sizes=(124, 64, 20, 10), activation='relu', random_state=random_seed, max_iter=200)\n",
        "mlpc1.fit(X_train, y_train)\n",
        "f\"Acurácia no treino: {mlpc1.score(X_train, y_train)}. Acurácia no teste: {mlpc1.score(X_test, y_test)}\""
      ],
      "metadata": {
        "colab": {
          "base_uri": "https://localhost:8080/",
          "height": 36
        },
        "id": "Y3LnljqNSl4-",
        "outputId": "985fc892-d9da-466e-90ec-158fb42e51d7"
      },
      "execution_count": 43,
      "outputs": [
        {
          "output_type": "execute_result",
          "data": {
            "text/plain": [
              "'Acurácia no treino: 0.8018433179723502. Acurácia no teste: 0.8172043010752689'"
            ],
            "application/vnd.google.colaboratory.intrinsic+json": {
              "type": "string"
            }
          },
          "metadata": {},
          "execution_count": 43
        }
      ]
    },
    {
      "cell_type": "markdown",
      "source": [
        "Como os resultados são semelhantes, vou usar uma automatização pra achar a melhor configuração, da dimensão da rede (com sempre 4 hidden layers), do learning rate, do alpha(que tuna a regularização L2) e do solver também!"
      ],
      "metadata": {
        "id": "RetaMNAMSupJ"
      }
    },
    {
      "cell_type": "code",
      "source": [
        "parameter_space = {\n",
        "    'hidden_layer_sizes': [(16,8, 4,2), (64,32, 16, 8), (124, 64, 20, 10), (200, 100, 20, 8), (2, 2, 2, 2), (3, 4, 6, 8), (12, 12, 12, 12)],\n",
        "    'activation': ['tanh', 'relu'],\n",
        "    'solver': ['sgd', 'adam'],\n",
        "    'alpha': [0.005, 0.05, 0.0001, 0.01],\n",
        "    'learning_rate': ['constant','adaptive','invscaling'],\n",
        "}"
      ],
      "metadata": {
        "id": "1yOAd3YCSjvj"
      },
      "execution_count": 47,
      "outputs": []
    },
    {
      "cell_type": "code",
      "source": [
        "mlp = MLPClassifier(max_iter=200)"
      ],
      "metadata": {
        "id": "zS1fb6vSU91L"
      },
      "execution_count": 48,
      "outputs": []
    },
    {
      "cell_type": "code",
      "source": [
        "from sklearn.model_selection import GridSearchCV\n",
        "\n",
        "clf = GridSearchCV(mlp, parameter_space, n_jobs=-1, cv=3)\n",
        "clf.fit(X_train, y_train)"
      ],
      "metadata": {
        "colab": {
          "base_uri": "https://localhost:8080/",
          "height": 373
        },
        "id": "QQ54hU5LUvDB",
        "outputId": "e42748fa-7367-493e-b048-bc091b3575f4"
      },
      "execution_count": 49,
      "outputs": [
        {
          "output_type": "stream",
          "name": "stderr",
          "text": [
            "/usr/local/lib/python3.9/dist-packages/joblib/externals/loky/initializers.py:26: UserWarning: Unable to introspect viztracer state: [Errno 107] Transport endpoint is not connected: '/gdrive'\n",
            "  warnings.warn(\"Unable to introspect viztracer state: {}\"\n"
          ]
        },
        {
          "output_type": "execute_result",
          "data": {
            "text/plain": [
              "GridSearchCV(cv=3, estimator=MLPClassifier(), n_jobs=-1,\n",
              "             param_grid={'activation': ['tanh', 'relu'],\n",
              "                         'alpha': [0.005, 0.05, 0.0001, 0.01],\n",
              "                         'hidden_layer_sizes': [(16, 8, 4, 2), (64, 32, 16, 8),\n",
              "                                                (124, 64, 20, 10),\n",
              "                                                (200, 100, 20, 8), (2, 2, 2, 2),\n",
              "                                                (3, 4, 6, 8),\n",
              "                                                (12, 12, 12, 12)],\n",
              "                         'learning_rate': ['constant', 'adaptive',\n",
              "                                           'invscaling'],\n",
              "                         'solver': ['sgd', 'adam']})"
            ],
            "text/html": [
              "<style>#sk-container-id-2 {color: black;background-color: white;}#sk-container-id-2 pre{padding: 0;}#sk-container-id-2 div.sk-toggleable {background-color: white;}#sk-container-id-2 label.sk-toggleable__label {cursor: pointer;display: block;width: 100%;margin-bottom: 0;padding: 0.3em;box-sizing: border-box;text-align: center;}#sk-container-id-2 label.sk-toggleable__label-arrow:before {content: \"▸\";float: left;margin-right: 0.25em;color: #696969;}#sk-container-id-2 label.sk-toggleable__label-arrow:hover:before {color: black;}#sk-container-id-2 div.sk-estimator:hover label.sk-toggleable__label-arrow:before {color: black;}#sk-container-id-2 div.sk-toggleable__content {max-height: 0;max-width: 0;overflow: hidden;text-align: left;background-color: #f0f8ff;}#sk-container-id-2 div.sk-toggleable__content pre {margin: 0.2em;color: black;border-radius: 0.25em;background-color: #f0f8ff;}#sk-container-id-2 input.sk-toggleable__control:checked~div.sk-toggleable__content {max-height: 200px;max-width: 100%;overflow: auto;}#sk-container-id-2 input.sk-toggleable__control:checked~label.sk-toggleable__label-arrow:before {content: \"▾\";}#sk-container-id-2 div.sk-estimator input.sk-toggleable__control:checked~label.sk-toggleable__label {background-color: #d4ebff;}#sk-container-id-2 div.sk-label input.sk-toggleable__control:checked~label.sk-toggleable__label {background-color: #d4ebff;}#sk-container-id-2 input.sk-hidden--visually {border: 0;clip: rect(1px 1px 1px 1px);clip: rect(1px, 1px, 1px, 1px);height: 1px;margin: -1px;overflow: hidden;padding: 0;position: absolute;width: 1px;}#sk-container-id-2 div.sk-estimator {font-family: monospace;background-color: #f0f8ff;border: 1px dotted black;border-radius: 0.25em;box-sizing: border-box;margin-bottom: 0.5em;}#sk-container-id-2 div.sk-estimator:hover {background-color: #d4ebff;}#sk-container-id-2 div.sk-parallel-item::after {content: \"\";width: 100%;border-bottom: 1px solid gray;flex-grow: 1;}#sk-container-id-2 div.sk-label:hover label.sk-toggleable__label {background-color: #d4ebff;}#sk-container-id-2 div.sk-serial::before {content: \"\";position: absolute;border-left: 1px solid gray;box-sizing: border-box;top: 0;bottom: 0;left: 50%;z-index: 0;}#sk-container-id-2 div.sk-serial {display: flex;flex-direction: column;align-items: center;background-color: white;padding-right: 0.2em;padding-left: 0.2em;position: relative;}#sk-container-id-2 div.sk-item {position: relative;z-index: 1;}#sk-container-id-2 div.sk-parallel {display: flex;align-items: stretch;justify-content: center;background-color: white;position: relative;}#sk-container-id-2 div.sk-item::before, #sk-container-id-2 div.sk-parallel-item::before {content: \"\";position: absolute;border-left: 1px solid gray;box-sizing: border-box;top: 0;bottom: 0;left: 50%;z-index: -1;}#sk-container-id-2 div.sk-parallel-item {display: flex;flex-direction: column;z-index: 1;position: relative;background-color: white;}#sk-container-id-2 div.sk-parallel-item:first-child::after {align-self: flex-end;width: 50%;}#sk-container-id-2 div.sk-parallel-item:last-child::after {align-self: flex-start;width: 50%;}#sk-container-id-2 div.sk-parallel-item:only-child::after {width: 0;}#sk-container-id-2 div.sk-dashed-wrapped {border: 1px dashed gray;margin: 0 0.4em 0.5em 0.4em;box-sizing: border-box;padding-bottom: 0.4em;background-color: white;}#sk-container-id-2 div.sk-label label {font-family: monospace;font-weight: bold;display: inline-block;line-height: 1.2em;}#sk-container-id-2 div.sk-label-container {text-align: center;}#sk-container-id-2 div.sk-container {/* jupyter's `normalize.less` sets `[hidden] { display: none; }` but bootstrap.min.css set `[hidden] { display: none !important; }` so we also need the `!important` here to be able to override the default hidden behavior on the sphinx rendered scikit-learn.org. See: https://github.com/scikit-learn/scikit-learn/issues/21755 */display: inline-block !important;position: relative;}#sk-container-id-2 div.sk-text-repr-fallback {display: none;}</style><div id=\"sk-container-id-2\" class=\"sk-top-container\"><div class=\"sk-text-repr-fallback\"><pre>GridSearchCV(cv=3, estimator=MLPClassifier(), n_jobs=-1,\n",
              "             param_grid={&#x27;activation&#x27;: [&#x27;tanh&#x27;, &#x27;relu&#x27;],\n",
              "                         &#x27;alpha&#x27;: [0.005, 0.05, 0.0001, 0.01],\n",
              "                         &#x27;hidden_layer_sizes&#x27;: [(16, 8, 4, 2), (64, 32, 16, 8),\n",
              "                                                (124, 64, 20, 10),\n",
              "                                                (200, 100, 20, 8), (2, 2, 2, 2),\n",
              "                                                (3, 4, 6, 8),\n",
              "                                                (12, 12, 12, 12)],\n",
              "                         &#x27;learning_rate&#x27;: [&#x27;constant&#x27;, &#x27;adaptive&#x27;,\n",
              "                                           &#x27;invscaling&#x27;],\n",
              "                         &#x27;solver&#x27;: [&#x27;sgd&#x27;, &#x27;adam&#x27;]})</pre><b>In a Jupyter environment, please rerun this cell to show the HTML representation or trust the notebook. <br />On GitHub, the HTML representation is unable to render, please try loading this page with nbviewer.org.</b></div><div class=\"sk-container\" hidden><div class=\"sk-item sk-dashed-wrapped\"><div class=\"sk-label-container\"><div class=\"sk-label sk-toggleable\"><input class=\"sk-toggleable__control sk-hidden--visually\" id=\"sk-estimator-id-2\" type=\"checkbox\" ><label for=\"sk-estimator-id-2\" class=\"sk-toggleable__label sk-toggleable__label-arrow\">GridSearchCV</label><div class=\"sk-toggleable__content\"><pre>GridSearchCV(cv=3, estimator=MLPClassifier(), n_jobs=-1,\n",
              "             param_grid={&#x27;activation&#x27;: [&#x27;tanh&#x27;, &#x27;relu&#x27;],\n",
              "                         &#x27;alpha&#x27;: [0.005, 0.05, 0.0001, 0.01],\n",
              "                         &#x27;hidden_layer_sizes&#x27;: [(16, 8, 4, 2), (64, 32, 16, 8),\n",
              "                                                (124, 64, 20, 10),\n",
              "                                                (200, 100, 20, 8), (2, 2, 2, 2),\n",
              "                                                (3, 4, 6, 8),\n",
              "                                                (12, 12, 12, 12)],\n",
              "                         &#x27;learning_rate&#x27;: [&#x27;constant&#x27;, &#x27;adaptive&#x27;,\n",
              "                                           &#x27;invscaling&#x27;],\n",
              "                         &#x27;solver&#x27;: [&#x27;sgd&#x27;, &#x27;adam&#x27;]})</pre></div></div></div><div class=\"sk-parallel\"><div class=\"sk-parallel-item\"><div class=\"sk-item\"><div class=\"sk-label-container\"><div class=\"sk-label sk-toggleable\"><input class=\"sk-toggleable__control sk-hidden--visually\" id=\"sk-estimator-id-3\" type=\"checkbox\" ><label for=\"sk-estimator-id-3\" class=\"sk-toggleable__label sk-toggleable__label-arrow\">estimator: MLPClassifier</label><div class=\"sk-toggleable__content\"><pre>MLPClassifier()</pre></div></div></div><div class=\"sk-serial\"><div class=\"sk-item\"><div class=\"sk-estimator sk-toggleable\"><input class=\"sk-toggleable__control sk-hidden--visually\" id=\"sk-estimator-id-4\" type=\"checkbox\" ><label for=\"sk-estimator-id-4\" class=\"sk-toggleable__label sk-toggleable__label-arrow\">MLPClassifier</label><div class=\"sk-toggleable__content\"><pre>MLPClassifier()</pre></div></div></div></div></div></div></div></div></div></div>"
            ]
          },
          "metadata": {},
          "execution_count": 49
        }
      ]
    },
    {
      "cell_type": "code",
      "source": [
        "print('Melores parâmetros:\\n', clf.best_params_)"
      ],
      "metadata": {
        "colab": {
          "base_uri": "https://localhost:8080/"
        },
        "id": "2n76oPrMVXSF",
        "outputId": "ad340150-9bcf-44e6-a67d-cf6d52b9dcd4"
      },
      "execution_count": 50,
      "outputs": [
        {
          "output_type": "stream",
          "name": "stdout",
          "text": [
            "Melores parâmetros:\n",
            " {'activation': 'relu', 'alpha': 0.005, 'hidden_layer_sizes': (200, 100, 20, 8), 'learning_rate': 'constant', 'solver': 'sgd'}\n"
          ]
        }
      ]
    },
    {
      "cell_type": "markdown",
      "source": [
        "Vamos testar agora os melhores resultado achados no test-set"
      ],
      "metadata": {
        "id": "92vJwI2YWmxv"
      }
    },
    {
      "cell_type": "code",
      "source": [
        "mlpc1 = MLPClassifier(hidden_layer_sizes=(200, 100, 20, 8), activation='relu', random_state=random_seed, max_iter=200, alpha=0.005, learning_rate='constant', solver='sgd')\n",
        "mlpc1.fit(X_train, y_train)\n",
        "f\"Acurácia no treino: {mlpc1.score(X_train, y_train)}. Acurácia no teste: {mlpc1.score(X_test, y_test)}\""
      ],
      "metadata": {
        "colab": {
          "base_uri": "https://localhost:8080/",
          "height": 36
        },
        "id": "BBYWdWE3XSLV",
        "outputId": "98799f65-b5dc-4b1c-a42c-c661c942153d"
      },
      "execution_count": 53,
      "outputs": [
        {
          "output_type": "execute_result",
          "data": {
            "text/plain": [
              "'Acurácia no treino: 0.8387096774193549. Acurácia no teste: 0.8494623655913979'"
            ],
            "application/vnd.google.colaboratory.intrinsic+json": {
              "type": "string"
            }
          },
          "metadata": {},
          "execution_count": 53
        }
      ]
    },
    {
      "cell_type": "markdown",
      "source": [
        "Só por curiosidade, vou utilizar os mesmos parâmetros mas deixa apenas uma hidden layer para ver como o resultado compara!"
      ],
      "metadata": {
        "id": "XJ9u_Z69YsS1"
      }
    },
    {
      "cell_type": "code",
      "source": [
        "mlpc1 = MLPClassifier(hidden_layer_sizes=(12), activation='relu', random_state=random_seed, max_iter=200, alpha=0.005, learning_rate='constant', solver='sgd')\n",
        "mlpc1.fit(X_train, y_train)\n",
        "f\"Acurácia no treino: {mlpc1.score(X_train, y_train)}. Acurácia no teste: {mlpc1.score(X_test, y_test)}\""
      ],
      "metadata": {
        "colab": {
          "base_uri": "https://localhost:8080/",
          "height": 72
        },
        "id": "ySJ7-futXATL",
        "outputId": "ce289e11-dee6-473c-d1dd-56dd73d60a06"
      },
      "execution_count": 57,
      "outputs": [
        {
          "output_type": "stream",
          "name": "stderr",
          "text": [
            "/usr/local/lib/python3.9/dist-packages/sklearn/neural_network/_multilayer_perceptron.py:686: ConvergenceWarning: Stochastic Optimizer: Maximum iterations (200) reached and the optimization hasn't converged yet.\n",
            "  warnings.warn(\n"
          ]
        },
        {
          "output_type": "execute_result",
          "data": {
            "text/plain": [
              "'Acurácia no treino: 0.8387096774193549. Acurácia no teste: 0.8602150537634409'"
            ],
            "application/vnd.google.colaboratory.intrinsic+json": {
              "type": "string"
            }
          },
          "metadata": {},
          "execution_count": 57
        }
      ]
    },
    {
      "cell_type": "markdown",
      "source": [
        "Surpreendentemente os resultados melhoram com uma layer somente, como eu li recentemente que uma hidden layer geralmente resolve o seu problema e, que a quantidade de perceptrons adequada é geralmente entre o tamanho da layer de entrada e da layer de saída (12 e 1 nesse caso) , quis testar isso."
      ],
      "metadata": {
        "id": "tBAyldSHY0M4"
      }
    },
    {
      "cell_type": "markdown",
      "source": [
        "Aqui a referência : https://stats.stackexchange.com/questions/181/how-to-choose-the-number-of-hidden-layers-and-nodes-in-a-feedforward-neural-netw"
      ],
      "metadata": {
        "id": "KfVFJjPpZe9h"
      }
    },
    {
      "cell_type": "code",
      "source": [],
      "metadata": {
        "id": "yT4rpLi9YmEQ"
      },
      "execution_count": null,
      "outputs": []
    }
  ],
  "metadata": {
    "kernelspec": {
      "display_name": "Python 3",
      "language": "python",
      "name": "python3"
    },
    "language_info": {
      "codemirror_mode": {
        "name": "ipython",
        "version": 3
      },
      "file_extension": ".py",
      "mimetype": "text/x-python",
      "name": "python",
      "nbconvert_exporter": "python",
      "pygments_lexer": "ipython3",
      "version": "3.10.6"
    },
    "orig_nbformat": 4,
    "colab": {
      "provenance": []
    }
  },
  "nbformat": 4,
  "nbformat_minor": 0
}
